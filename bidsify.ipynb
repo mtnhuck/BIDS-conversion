{
 "cells": [
  {
   "cell_type": "code",
   "execution_count": 1,
   "metadata": {
    "ExecuteTime": {
     "end_time": "2018-12-14T20:46:40.421661Z",
     "start_time": "2018-12-14T20:46:40.416978Z"
    },
    "collapsed": true
   },
   "outputs": [],
   "source": [
    "# import modules\n",
    "import shutil\n",
    "import os\n",
    "from datetime import date"
   ]
  },
  {
   "cell_type": "code",
   "execution_count": 2,
   "metadata": {
    "ExecuteTime": {
     "end_time": "2018-12-14T20:46:43.445081Z",
     "start_time": "2018-12-14T20:46:43.106424Z"
    }
   },
   "outputs": [],
   "source": [
    "'''Copying and renaming files'''\n",
    "\n",
    "def bidsify(origpath, destpath, n_sessions=2, scan_types=None, scan_names=None, log_changes=True, log_name='CHANGES', verbose=False):\n",
    "    \n",
    "    # convert to absolute paths if relative path is passed\n",
    "    origpath_abs = os.path.abspath(origpath)\n",
    "    destpath_abs = os.path.abspath(destpath)\n",
    "    \n",
    "    # instantiate list of unsuccessfully handled file paths\n",
    "    problem_files = []\n",
    "    \n",
    "    if scan_types is None:\n",
    "        scan_types = ['anat','func','log']\n",
    "        \n",
    "    if scan_names is None:\n",
    "        # use default dictionary of scan types\n",
    "        scan_names = {\n",
    "            'mprage' : 'T1w',\n",
    "            'bold1' : 'task-rest_run-01_bold',\n",
    "            'bold2' : 'task-mcr_run-02_bold',\n",
    "            'bold3' : 'task-swm_run-03_bold',\n",
    "            'bold4' : 'task-dd_run-04_bold',\n",
    "            'bold5' : 'task-rest_run-05_bold'\n",
    "        }\n",
    "    \n",
    "    \n",
    "    def _rename(file, root, n_sessions, scan_names, destpath_abs, log_changes, log_name, verbose):\n",
    "\n",
    "        # viarable to track unsuccessfully renamed files\n",
    "        problem_file = None\n",
    "\n",
    "        old_path = os.path.join(root, file)\n",
    "        base, ext = os.path.splitext(file)\n",
    "        splitpath = root.split('/')\n",
    "\n",
    "        # get subject ID\n",
    "        sub = splitpath[-2].split('_')[0]\n",
    "\n",
    "        # get session number\n",
    "        ses_number = splitpath[-2].split('_')[1]\n",
    "        if int(ses_number) <= n_sessions:\n",
    "            session = 'ses-'+ses_number\n",
    "\n",
    "        else:\n",
    "            print('unrecognized session number \\'' + ses_number + '\\' for subID ' + sub)\n",
    "            problem_file = file\n",
    "\n",
    "        # get scan type (or log)\n",
    "        if splitpath[-1] == 'ANATOMY':\n",
    "            runtype = 'anat'\n",
    "\n",
    "        elif splitpath[-1] == 'FUNCTIONAL':\n",
    "            runtype = 'func'\n",
    "\n",
    "        elif splitpath[-1] == 'LOG':\n",
    "            runtype = 'LOG'\n",
    "\n",
    "        else:\n",
    "            print('unrecognized scan or log folder ' + splitpath[-1] + ' for subID ' + sub)\n",
    "            problem_file = file\n",
    "\n",
    "        # format scan name (or preserve name of log file)\n",
    "        if base in scan_names:\n",
    "            new_name = scan_names[base]\n",
    "\n",
    "        elif ext =='.log':\n",
    "            new_name = base\n",
    "\n",
    "        else:\n",
    "            print('unrecognized scan name ' + base + ' for file ' + file)\n",
    "            problem_file = file\n",
    "\n",
    "        try:\n",
    "            if runtype != 'LOG':\n",
    "                new_path = os.path.join(destpath_abs, sub, session, runtype, sub+'_'+new_name+ext)\n",
    "            else:\n",
    "                new_path = os.path.join(destpath_abs, sub, session, runtype, new_name+ext)\n",
    "\n",
    "            if log_changes:\n",
    "                _writelog(log_name, old_path, destpath_abs, sub, session, new_name, ext, verbose)\n",
    "\n",
    "        except NameError:\n",
    "            new_path = None\n",
    "\n",
    "\n",
    "        return new_path, problem_file\n",
    "\n",
    "    def _writelog(log_name, old_path, destpath_abs, sub, session, new_name, ext, verbose):\n",
    "    \n",
    "        filename = os.path.join(destpath_abs, sub, session, 'LOG', log_name + '.log')\n",
    "\n",
    "        if os.path.exists(filename):\n",
    "            mode = 'a'\n",
    "\n",
    "        else:\n",
    "            mode = 'w'\n",
    "\n",
    "        with open(filename, mode) as f:\n",
    "            f.write(\n",
    "                date.today().strftime('%Y-%m-%d') + '\\n' +\n",
    "                ' - ' + new_name+ext + ' moved from ' + old_path + '\\n'\n",
    "            )\n",
    "\n",
    "        if verbose:\n",
    "            print('wrote to log file ' + filename)\n",
    "\n",
    "    for i, (root, dirs, files) in enumerate(os.walk(origpath_abs)):\n",
    "        # create new directory structure\n",
    "        if i == 0:\n",
    "            [os.makedirs(destpath_abs+'/'+direc.split('_')[0]+'/ses-'+str(ses+1)+'/'+scantype, exist_ok=True) for direc in dirs for scantype in scan_types for ses in range(n_sessions)]\n",
    "        \n",
    "        # move and rename files\n",
    "        else:\n",
    "            file_list = [f for f in files if not f.startswith('.')]\n",
    "            if file_list:\n",
    "                for file in file_list:\n",
    "                    old_filepath = os.path.join(root, file)\n",
    "                    new_filepath, problem_file = _rename(file, root, n_sessions, scan_names, destpath_abs, log_changes, log_name, verbose)\n",
    "                    \n",
    "                    if new_filepath is not None:\n",
    "                        # move and rename\n",
    "                        shutil.copy(old_filepath, new_filepath)\n",
    "                        \n",
    "                        if verbose:\n",
    "                            print('moved ' + old_filepath + ' to ' + new_filepath)\n",
    "                        \n",
    "                    else:\n",
    "                        problem_files.append(problem_file)\n",
    "                        \n",
    "                        \n",
    "                    if problem_files:\n",
    "                        print('The following files were not successfully converted: ' + problem_files)"
   ]
  },
  {
   "cell_type": "code",
   "execution_count": null,
   "metadata": {
    "ExecuteTime": {
     "end_time": "2018-12-14T21:36:42.646609Z",
     "start_time": "2018-12-14T21:36:42.642867Z"
    }
   },
   "outputs": [],
   "source": []
  },
  {
   "cell_type": "code",
   "execution_count": null,
   "metadata": {
    "collapsed": true
   },
   "outputs": [],
   "source": []
  },
  {
   "cell_type": "code",
   "execution_count": null,
   "metadata": {
    "collapsed": true
   },
   "outputs": [],
   "source": []
  },
  {
   "cell_type": "code",
   "execution_count": 6,
   "metadata": {
    "ExecuteTime": {
     "end_time": "2018-12-14T21:37:50.608046Z",
     "start_time": "2018-12-14T21:37:50.605128Z"
    },
    "collapsed": true
   },
   "outputs": [],
   "source": [
    "import sys\n",
    "import argparse"
   ]
  },
  {
   "cell_type": "code",
   "execution_count": 8,
   "metadata": {
    "ExecuteTime": {
     "end_time": "2018-12-14T21:38:41.270595Z",
     "start_time": "2018-12-14T21:38:41.254113Z"
    }
   },
   "outputs": [
    {
     "name": "stderr",
     "output_type": "stream",
     "text": [
      "usage: ipykernel_launcher.py [-h] [--n_sessions N_SESSIONS]\n",
      "                             [--scan_types SCAN_TYPES]\n",
      "                             [--scan_names SCAN_NAMES]\n",
      "                             [--log_changes LOG_CHANGES] [--log_name LOG_NAME]\n",
      "                             [--verbose VERBOSE]\n",
      "                             origpath destpath\n",
      "ipykernel_launcher.py: error: the following arguments are required: destpath\n"
     ]
    },
    {
     "ename": "SystemExit",
     "evalue": "2",
     "output_type": "error",
     "traceback": [
      "An exception has occurred, use %tb to see the full traceback.\n",
      "\u001b[0;31mSystemExit\u001b[0m\u001b[0;31m:\u001b[0m 2\n"
     ]
    },
    {
     "name": "stderr",
     "output_type": "stream",
     "text": [
      "/Users/paxtonfitzpatrick/anaconda/envs/py36/lib/python3.6/site-packages/IPython/core/interactiveshell.py:2870: UserWarning: To exit: use 'exit', 'quit', or Ctrl-D.\n",
      "  warn(\"To exit: use 'exit', 'quit', or Ctrl-D.\", stacklevel=1)\n"
     ]
    }
   ],
   "source": [
    "parser = argparse.ArgumentParser(description='Convert data to BIDS format')\n",
    "parser.add_argument('origpath', type=str, help='Path to directory of files to be BIDSified')\n",
    "parser.add_argument('destpath', type=str, help='Path to output directory for BIDSified files.')\n",
    "parser.add_argument('--n_sessions', default=2, type=int, help='Number of different scan each participant attended.')\n",
    "parser.add_argument('--scan_types', default=None, help='Names of scan types (and other directories) for organizing within subject directories.')\n",
    "parser.add_argument('--scan_names', default=None, help='Custom mapping betweeen current file names (keys) and desired output file names (values).')\n",
    "parser.add_argument('--log_changes', default=True, type=bool, help='If True, create a .log file noting the moving and renaming of files and the current date, named according to --log_name.')\n",
    "parser.add_argument('--log_name', default='CHANGES', type=str, help='Name of output .log file.')\n",
    "parser.add_argument('--verbose', default=True, type=bool, help='If True, print progress updates while running, after each file is moved and renamed.')\n",
    "\n",
    "args = parser.parse_args()"
   ]
  },
  {
   "cell_type": "code",
   "execution_count": null,
   "metadata": {
    "collapsed": true
   },
   "outputs": [],
   "source": []
  }
 ],
 "metadata": {
  "kernelspec": {
   "display_name": "Python 3",
   "language": "python",
   "name": "python3"
  },
  "language_info": {
   "codemirror_mode": {
    "name": "ipython",
    "version": 3
   },
   "file_extension": ".py",
   "mimetype": "text/x-python",
   "name": "python",
   "nbconvert_exporter": "python",
   "pygments_lexer": "ipython3",
   "version": "3.6.2"
  }
 },
 "nbformat": 4,
 "nbformat_minor": 2
}
