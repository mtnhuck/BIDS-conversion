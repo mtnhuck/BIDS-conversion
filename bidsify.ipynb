{
 "cells": [
  {
   "cell_type": "code",
   "execution_count": 1,
   "metadata": {
    "ExecuteTime": {
     "end_time": "2018-12-14T17:50:53.448214Z",
     "start_time": "2018-12-14T17:50:53.443618Z"
    },
    "collapsed": true
   },
   "outputs": [],
   "source": [
    "# import modules\n",
    "import shutil\n",
    "import os\n",
    "from datetime import date"
   ]
  },
  {
   "cell_type": "code",
   "execution_count": 2,
   "metadata": {
    "ExecuteTime": {
     "end_time": "2018-12-14T17:50:53.972940Z",
     "start_time": "2018-12-14T17:50:53.915212Z"
    },
    "collapsed": true
   },
   "outputs": [],
   "source": [
    "'''Copying and renaming files'''\n",
    "\n",
    "def bidsify(origpath, destpath, n_sessions=2, scan_types=None, scan_names=None, log_changes=True, verbose=True):\n",
    "    \n",
    "    # instantiate list of unsuccessfully handled file paths\n",
    "    problem_files = []\n",
    "    \n",
    "    if scan_types is None:\n",
    "        scan_types = ['anat','func']\n",
    "        \n",
    "    if scan_names is None:\n",
    "        # use default dictionary of scan types\n",
    "        scan_names = {\n",
    "            'mprage' : 'T1w',\n",
    "            'bold1' : 'task-rest_run-01_bold',\n",
    "            'bold2' : 'task-mcr_run-02_bold',\n",
    "            'bold3' : 'task-swm_run-03_bold',\n",
    "            'bold4' : 'task-dd_run-04_bold',\n",
    "            'bold5' : 'task-rest_run-05_bold'\n",
    "        }\n",
    "        \n",
    "    if log_changes:\n",
    "        scan_types.append('log')\n",
    "        \n",
    "    \n",
    "    for i, (root, dirs, files) in enumerate(os.walk(origpath)):\n",
    "        # create new directory structure\n",
    "        if i == 0:\n",
    "            [os.makedirs(destpath+'/'+direc.split('_')[0]+'/ses-'+str(ses+1)+'/'+scantype, exist_ok=True) for direc in dirs for scantype in scan_types for ses in range(n_sessions)]\n",
    "        \n",
    "        # move and rename files\n",
    "        else:\n",
    "            file_list = [f for f in files if not f.startswith('.')]\n",
    "            if file_list:\n",
    "                for file in file_list:\n",
    "                    old_filepath = os.path.join(root, file)\n",
    "                    new_filepath, problem_file = _rename(file, root, n_sessions, scan_names, destpath)\n",
    "                    \n",
    "                    if new_filepath is not None:\n",
    "                        # move and rename\n",
    "                        shutil.copy(old_filepath, new_filepath)\n",
    "                        \n",
    "                    else:\n",
    "                        problem_files.append(problem_file)\n",
    "                        \n",
    "                        \n",
    "                    if problem_files:\n",
    "                        print('The following files were not successfully converted: ' + problem_files)"
   ]
  },
  {
   "cell_type": "code",
   "execution_count": 9,
   "metadata": {
    "ExecuteTime": {
     "end_time": "2018-12-14T17:51:58.306991Z",
     "start_time": "2018-12-14T17:51:58.212429Z"
    },
    "code_folding": []
   },
   "outputs": [],
   "source": [
    "'''Defines naming scheme for moved files'''\n",
    "\n",
    "def _rename(file, root, n_sessions, scan_names, destpath):\n",
    "\n",
    "    # viarable to track unsuccessfully renamed files\n",
    "    problem_file = None\n",
    "\n",
    "    old_path = os.path.join(root, file)\n",
    "    base, ext = os.path.splitext(file)\n",
    "    splitpath = root.split('/')\n",
    "\n",
    "    # get subject ID\n",
    "    sub = splitpath[-2].split('_')[0]\n",
    "\n",
    "    # get session number\n",
    "    ses_number = splitpath[-2].split('_')[1]\n",
    "    if int(ses_number) <= n_sessions:\n",
    "        session = 'ses-'+ses_number\n",
    "\n",
    "    else:\n",
    "        print('unrecognized session number \\'' + ses_number + '\\' for subID ' + sub)\n",
    "        problem_file = file\n",
    "\n",
    "    # get scan type (or log)\n",
    "    if splitpath[-1] == 'ANATOMY':\n",
    "        runtype = 'anat'\n",
    "\n",
    "    elif splitpath[-1] == 'FUNCTIONAL':\n",
    "        runtype = 'func'\n",
    "\n",
    "    elif splitpath[-1] == 'LOG':\n",
    "        runtype = 'LOG'\n",
    "\n",
    "    else:\n",
    "        print('unrecognized scan or log folder ' + splitpath[-1] + ' for subID ' + sub)\n",
    "        problem_file = file\n",
    "\n",
    "    # format scan name (or preserve name of log file)\n",
    "    if base in scan_names:\n",
    "        new_name = scan_names[base]\n",
    "\n",
    "    elif ext =='.log':\n",
    "        new_name = base\n",
    "\n",
    "    else:\n",
    "        print('unrecognized scan name ' + base + ' for file ' + file)\n",
    "        problem_file = file\n",
    "\n",
    "    try:\n",
    "        if runtype != 'LOG':\n",
    "            new_path = os.path.join(destpath, sub, session, runtype, sub+'_'+new_name+ext)\n",
    "        else:\n",
    "            new_path = os.path.join(destpath, sub, session, runtype, new_name+ext)\n",
    "\n",
    "    except NameError:\n",
    "        new_path = None\n",
    "\n",
    "\n",
    "    if new_path is not None:\n",
    "        _writelog(old_path, destpath, sub, session, new_name, ext)\n",
    "    \n",
    "    return new_path, problem_file"
   ]
  },
  {
   "cell_type": "code",
   "execution_count": 10,
   "metadata": {
    "ExecuteTime": {
     "end_time": "2018-12-14T17:51:58.930756Z",
     "start_time": "2018-12-14T17:51:58.919064Z"
    }
   },
   "outputs": [],
   "source": [
    "'''Writes/updates log of moving file'''\n",
    "\n",
    "def _writelog(old_path, destpath, sub, session, new_name, ext):\n",
    "    \n",
    "    filename = os.path.join(destpath, sub, session, 'LOG/CHANGES.log')\n",
    "    \n",
    "    if os.path.exists(filename):\n",
    "        mode = 'a'\n",
    "    \n",
    "    else:\n",
    "        mode = 'w'\n",
    "        \n",
    "    with open(filename, mode) as f:\n",
    "        f.write(\n",
    "            date.today().strftime('%Y-%m-%d') + '\\n' +\n",
    "            ' - ' + new_name+ext + ' moved from ' + old_path + '\\n'\n",
    "        )"
   ]
  },
  {
   "cell_type": "code",
   "execution_count": 11,
   "metadata": {
    "ExecuteTime": {
     "end_time": "2018-12-14T17:52:04.286301Z",
     "start_time": "2018-12-14T17:52:04.231237Z"
    },
    "scrolled": true
   },
   "outputs": [],
   "source": [
    "'''TESTING'''\n",
    "\n",
    "\n",
    "bidsify('/Users/paxtonfitzpatrick/Desktop/testorig/', '/Users/paxtonfitzpatrick/Desktop/testdest/', log_changes=True)"
   ]
  },
  {
   "cell_type": "code",
   "execution_count": null,
   "metadata": {
    "collapsed": true
   },
   "outputs": [],
   "source": []
  }
 ],
 "metadata": {
  "kernelspec": {
   "display_name": "Python 3",
   "language": "python",
   "name": "python3"
  },
  "language_info": {
   "codemirror_mode": {
    "name": "ipython",
    "version": 3
   },
   "file_extension": ".py",
   "mimetype": "text/x-python",
   "name": "python",
   "nbconvert_exporter": "python",
   "pygments_lexer": "ipython3",
   "version": "3.6.2"
  }
 },
 "nbformat": 4,
 "nbformat_minor": 2
}
