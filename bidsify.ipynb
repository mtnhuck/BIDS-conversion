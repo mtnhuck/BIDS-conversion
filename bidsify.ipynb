{
 "cells": [
  {
   "cell_type": "code",
   "execution_count": 1,
   "metadata": {
    "ExecuteTime": {
     "end_time": "2018-12-12T00:33:21.356962Z",
     "start_time": "2018-12-12T00:33:20.975783Z"
    },
    "collapsed": true
   },
   "outputs": [],
   "source": [
    "# import modules\n",
    "import shutil\n",
    "import os\n",
    "import pandas as pd"
   ]
  },
  {
   "cell_type": "code",
   "execution_count": 40,
   "metadata": {
    "ExecuteTime": {
     "end_time": "2018-12-11T20:02:59.173005Z",
     "start_time": "2018-12-11T20:02:59.161483Z"
    },
    "code_folding": [
     0
    ]
   },
   "outputs": [],
   "source": [
    "# '''Copying and renaming files'''\n",
    "\n",
    "\n",
    "# def bidsify(origpath, destpath, verbose=True):\n",
    "    \n",
    "#     origin = os.listdir(origpath)\n",
    "    \n",
    "#     # create new directory structure\n",
    "#         # strips trailing dates from subject folder names\n",
    "#     for subdir in origin:\n",
    "#         splitdir = subdir.split('_')\n",
    "#         for scantype in ['anat', 'func']:\n",
    "#             os.makedirs(destpath+'/'+splitdir[0]+'/ses-'+splitdir[1]+'/'+scantype)\n",
    "            \n",
    "#     for subdir in origin:\n",
    "        "
   ]
  },
  {
   "cell_type": "code",
   "execution_count": null,
   "metadata": {
    "collapsed": true
   },
   "outputs": [],
   "source": [
    "'''Defines naming scheme for moved files'''\n",
    "\n",
    "def rename(file, root):\n",
    "    \n",
    "    # initialize list of files not successfully converted\n",
    "    problem_files = []\n",
    "    \n",
    "    old_path = os.path.join(root, file)\n",
    "    base, ext = os.path.splitext(file)\n",
    "    splitpath = root.split('/')\n",
    "    \n",
    "    # get subject ID\n",
    "    sub = splitpath[-2].split('_')[0]\n",
    "    \n",
    "    # get session number\n",
    "    ses_number = splitpath[-2].split('_')[1]\n",
    "    if ses_number <= n_sessions:\n",
    "        session = ses_number\n",
    "    \n",
    "    else:\n",
    "        print('unrecognized session number \\'' + ses_number + '\\' for subID ' + sub)\n",
    "        problem_files.append(file)\n",
    "    \n",
    "    # get scan type (or log)\n",
    "    if splitpath[-1] == 'ANATOMY':\n",
    "        runtype = 'anat'\n",
    "        \n",
    "    elif splitpath[-1] == 'FUNCTIONAL':\n",
    "        runtype = 'func'\n",
    "        \n",
    "    elif splitpath[-1] == 'LOG':\n",
    "        runtype = 'LOG'\n",
    "        \n",
    "    else:\n",
    "        print('unrecognized scan type ' + splitpath[-1] + ' for file ' + file)\n",
    "        problem_files.append(file)\n",
    "        \n",
    "    # format scan name (or log)\n",
    "    if base in scan_names:\n",
    "        new_name = scan_names[base]\n",
    "        \n",
    "    elif ext =='log':\n",
    "        new_name = base\n",
    "        \n",
    "    else:\n",
    "        print('unrecognized scan name ' + base + ' for file ' + file)\n",
    "        problem_files.append(file)\n",
    "        \n",
    "    new_path = "
   ]
  },
  {
   "cell_type": "code",
   "execution_count": 18,
   "metadata": {
    "ExecuteTime": {
     "end_time": "2018-12-12T01:28:04.683936Z",
     "start_time": "2018-12-12T01:28:04.668054Z"
    }
   },
   "outputs": [],
   "source": [
    "'''Copying and renaming files'''\n",
    "\n",
    "def bidsify(origpath, destpath, n_sessions=2, scan_types=None, scan_names=None, log_changes=True, verbose=True):\n",
    "    \n",
    "    if scan_types is None:\n",
    "        scan_types = ['anat','func']\n",
    "        \n",
    "    if scan_names is None:\n",
    "        # instantiate \n",
    "        scan_names = {\n",
    "            'mprage' : 'T1_w',\n",
    "            'bold1' : 'task-rest_run-01_bold',\n",
    "            'bold2' : 'task-mcr_run-02_bold',\n",
    "            'bold3' : 'task-swm_run-03',\n",
    "            'bold4' : 'task-dd_run-04',\n",
    "            'bold5' : 'task-rest_run-05_bold'\n",
    "        }\n",
    "        \n",
    "    if log_changes:\n",
    "        scan_types.append('log')\n",
    "        \n",
    "    \n",
    "    for i, (root, dirs, files) in enumerate(os.walk(origpath)):\n",
    "        # create new directory structure\n",
    "        if i == 0:\n",
    "            [os.makedirs(destpath+'/'+direc.split('_')[0]+'/ses-'+str(ses+1)+'/'+scantype, exist_ok=True) for direc in dirs for scantype in scan_types for ses in range(n_sessions)]\n",
    "        \n",
    "        # wrangle files\n",
    "        else:\n",
    "            file_list = [f for f in files if not f.startswith('.')]\n",
    "            if file_list:\n",
    "                for file in file_list:\n",
    "                    rename(file, root)\n",
    "                    old_filepath = os.path.join(root, file)\n",
    "                    \n",
    "                    \n",
    "                    \n",
    "                    \n",
    "                    \n",
    "                    new_filepath = os.path.join(destpath, )\n",
    "        \n",
    "        \n",
    "        \n",
    "        "
   ]
  },
  {
   "cell_type": "code",
   "execution_count": null,
   "metadata": {
    "collapsed": true
   },
   "outputs": [],
   "source": []
  },
  {
   "cell_type": "code",
   "execution_count": 78,
   "metadata": {
    "ExecuteTime": {
     "end_time": "2018-12-12T08:02:33.671737Z",
     "start_time": "2018-12-12T08:02:33.638952Z"
    },
    "scrolled": true
   },
   "outputs": [
    {
     "name": "stdout",
     "output_type": "stream",
     "text": [
      "2022_1_asd-anat.txt\n",
      "2022_1_asd-log.txt\n",
      "example-log.txt\n",
      "2012_1_asd-func.txt\n",
      "example-func.txt\n",
      "2020_1_asd-anat.txt\n",
      "2020_1_asd-log.txt\n",
      "2020_1_asd-func.txt\n",
      "2019_1_asd-anat.txt\n",
      "2019_1_asd-log.txt\n",
      "2019_1_asd-func.txt\n",
      "2021_1_asd-anat.txt\n",
      "2018_1_asd-log.txt\n",
      "example-log.txt\n",
      "2018_1_asd-func.txt\n",
      "example-func.txt\n",
      "2023_1_asd-log.txt\n",
      "example-log.txt\n",
      "2018_1_asd-anat.txt\n",
      "2018_1_asd-log.txt\n",
      "2018_1_asd-func.txt\n",
      "2018_2_jkl-anat.txt\n",
      "2018_2_jkl-log.txt\n",
      "2018_2_jkl-func.txt\n",
      "2021_2_jkl-anat.txt\n",
      "2018_1_asd-log.txt\n",
      "example-log.txt\n",
      "2018_1_asd-func.txt\n",
      "example-func.txt\n",
      "2019_2_jkl-anat.txt\n",
      "2019_2_jkl-log.txt\n",
      "2019_2_jkl-func.txt\n",
      "2020_2_jkl-anat.txt\n",
      "2018_1_asd-log.txt\n",
      "example-log.txt\n",
      "2018_1_asd-func.txt\n",
      "example-func.txt\n"
     ]
    }
   ],
   "source": [
    "destpath='/Users/paxtonfitzpatrick/Desktop/testdest/'\n",
    "origpath = '/Users/paxtonfitzpatrick/Desktop/testorig/'\n",
    "for i, (root, dirs, files) in enumerate(os.walk(origpath)):\n",
    "\n",
    "    file_list = [f for f in files if not f.startswith('.')]\n",
    "    if file_list:\n",
    "        for file in file_list:\n",
    "            print(file)\n",
    "            \n",
    "#             old_filepath = os.path.join(root, file)\n",
    "#             print(old_filepath)\n",
    "#             base, ext = os.path.splitext(file)\n",
    "#             print(root)\n",
    "#             print(base)\n",
    "# #             base = 'HELLO'\n",
    "# #             print(base)\n",
    "#             print('________')"
   ]
  },
  {
   "cell_type": "code",
   "execution_count": 43,
   "metadata": {
    "ExecuteTime": {
     "end_time": "2018-12-12T03:21:56.428428Z",
     "start_time": "2018-12-12T03:21:56.397870Z"
    },
    "scrolled": true
   },
   "outputs": [
    {
     "name": "stdout",
     "output_type": "stream",
     "text": [
      "0\n",
      "['2020_1_asd', '2019_1_asd', '2021_1_asd', '2018_1_asd', '2018_2_jkl', '2021_2_jkl', '2019_2_jkl', '2020_2_jkl'] ['.DS_Store']\n",
      "1\n",
      "['ANATOMICAL', 'LOG', 'FUNCTIONAL'] ['.DS_Store']\n",
      "2\n",
      "[] ['.DS_Store', '2020_1_asd-anat.txt']\n",
      "3\n",
      "[] ['.DS_Store', '2020_1_asd-log.txt']\n",
      "4\n",
      "[] ['.DS_Store', '2020_1_asd-func.txt']\n",
      "5\n",
      "['ANATOMICAL', 'LOG', 'FUNCTIONAL'] ['.DS_Store']\n",
      "6\n",
      "[] ['.DS_Store', '2019_1_asd-anat.txt']\n",
      "7\n",
      "[] ['.DS_Store', '2019_1_asd-log.txt']\n",
      "8\n",
      "[] ['2019_1_asd-func.txt', '.DS_Store']\n",
      "9\n",
      "['ANATOMICAL', 'LOG', 'FUNCTIONAL'] ['.DS_Store']\n",
      "10\n",
      "[] ['.DS_Store', '2021_1_asd-anat.txt']\n",
      "11\n",
      "[] ['2018_1_asd-log.txt', 'example-log.txt']\n",
      "12\n",
      "[] ['2018_1_asd-func.txt', 'example-func.txt']\n",
      "13\n",
      "['ANATOMICAL', 'LOG', 'FUNCTIONAL'] ['.DS_Store']\n",
      "14\n",
      "[] ['2018_1_asd-anat.txt', '.DS_Store']\n",
      "15\n",
      "[] ['2018_1_asd-log.txt']\n",
      "16\n",
      "[] ['2018_1_asd-func.txt']\n",
      "17\n",
      "['ANATOMICAL', 'LOG', 'FUNCTIONAL'] ['.DS_Store']\n",
      "18\n",
      "[] ['.DS_Store', '2018_2_jkl-anat.txt']\n",
      "19\n",
      "[] ['2018_2_jkl-log.txt']\n",
      "20\n",
      "[] ['2018_2_jkl-func.txt']\n",
      "21\n",
      "['ANATOMICAL', 'LOG', 'FUNCTIONAL'] ['.DS_Store']\n",
      "22\n",
      "[] ['.DS_Store', '2021_2_jkl-anat.txt']\n",
      "23\n",
      "[] ['2018_1_asd-log.txt', 'example-log.txt']\n",
      "24\n",
      "[] ['2018_1_asd-func.txt', 'example-func.txt']\n",
      "25\n",
      "['ANATOMICAL', 'LOG', 'FUNCTIONAL'] ['.DS_Store']\n",
      "26\n",
      "[] ['.DS_Store', '2019_2_jkl-anat.txt']\n",
      "27\n",
      "[] ['.DS_Store', '2019_2_jkl-log.txt']\n",
      "28\n",
      "[] ['.DS_Store', '2019_2_jkl-func.txt']\n",
      "29\n",
      "['ANATOMICAL', 'LOG', 'FUNCTIONAL'] ['.DS_Store']\n",
      "30\n",
      "[] ['2020_2_jkl-anat.txt', '.DS_Store']\n",
      "31\n",
      "[] ['2018_1_asd-log.txt', 'example-log.txt']\n",
      "32\n",
      "[] ['2018_1_asd-func.txt', 'example-func.txt']\n"
     ]
    }
   ],
   "source": [
    "for i, (root, dirs, files) in enumerate(os.walk('/Users/paxtonfitzpatrick/Desktop/testorig/')):\n",
    "    print(i)\n",
    "    print(dirs, files)"
   ]
  },
  {
   "cell_type": "code",
   "execution_count": null,
   "metadata": {
    "collapsed": true
   },
   "outputs": [],
   "source": []
  },
  {
   "cell_type": "code",
   "execution_count": null,
   "metadata": {
    "collapsed": true
   },
   "outputs": [],
   "source": []
  },
  {
   "cell_type": "code",
   "execution_count": 19,
   "metadata": {
    "ExecuteTime": {
     "end_time": "2018-12-12T01:28:09.091457Z",
     "start_time": "2018-12-12T01:28:09.081200Z"
    }
   },
   "outputs": [],
   "source": [
    "'''TESTING'''\n",
    "\n",
    "\n",
    "bidsify('/Users/paxtonfitzpatrick/Desktop/testorig/', '/Users/paxtonfitzpatrick/Desktop/testdest/', log_changes=True)"
   ]
  },
  {
   "cell_type": "code",
   "execution_count": 66,
   "metadata": {
    "ExecuteTime": {
     "end_time": "2018-12-12T06:05:05.727369Z",
     "start_time": "2018-12-12T06:05:05.724080Z"
    }
   },
   "outputs": [],
   "source": [
    "origpath = '/Users/paxtonfitzpatrick/Desktop/testorig/'\n",
    "a, b, = origpath.split('/')[-2], origpath.split('/')[-3]"
   ]
  },
  {
   "cell_type": "code",
   "execution_count": 68,
   "metadata": {
    "ExecuteTime": {
     "end_time": "2018-12-12T06:05:10.254082Z",
     "start_time": "2018-12-12T06:05:10.250036Z"
    }
   },
   "outputs": [
    {
     "data": {
      "text/plain": [
       "'Desktop'"
      ]
     },
     "execution_count": 68,
     "metadata": {},
     "output_type": "execute_result"
    }
   ],
   "source": [
    "somefile = '/Users/paxtonfitzpatrick/Desktop/testorig/2018_1_asd/ANATOMICAL/2018_1_asd-anat.txt'\n",
    "os.path.basename()"
   ]
  },
  {
   "cell_type": "code",
   "execution_count": 74,
   "metadata": {
    "ExecuteTime": {
     "end_time": "2018-12-12T07:52:50.910342Z",
     "start_time": "2018-12-12T07:52:50.905991Z"
    },
    "collapsed": true
   },
   "outputs": [],
   "source": [
    "scan_names = {\n",
    "            'mprage' : 'T1_w',\n",
    "            'bold1' : 'task-rest_run-01_bold',\n",
    "            'bold2' : 'task-mcr_run-02_bold',\n",
    "            'bold3' : 'task-swm_run-03',\n",
    "            'bold4' : 'task-dd_run-04',\n",
    "            'bold5' : 'task-rest_run-05_bold'\n",
    "        }"
   ]
  },
  {
   "cell_type": "code",
   "execution_count": 77,
   "metadata": {
    "ExecuteTime": {
     "end_time": "2018-12-12T07:53:24.894474Z",
     "start_time": "2018-12-12T07:53:24.890143Z"
    }
   },
   "outputs": [
    {
     "name": "stdout",
     "output_type": "stream",
     "text": [
      "task-mcr_run-02_bold\n"
     ]
    }
   ],
   "source": [
    "if 'bold2' in scan_names:\n",
    "    print(scan_names['bold2'])"
   ]
  },
  {
   "cell_type": "code",
   "execution_count": null,
   "metadata": {
    "collapsed": true
   },
   "outputs": [],
   "source": []
  }
 ],
 "metadata": {
  "kernelspec": {
   "display_name": "Python 3",
   "language": "python",
   "name": "python3"
  },
  "language_info": {
   "codemirror_mode": {
    "name": "ipython",
    "version": 3
   },
   "file_extension": ".py",
   "mimetype": "text/x-python",
   "name": "python",
   "nbconvert_exporter": "python",
   "pygments_lexer": "ipython3",
   "version": "3.6.2"
  }
 },
 "nbformat": 4,
 "nbformat_minor": 2
}
