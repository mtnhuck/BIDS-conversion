{
 "cells": [
  {
   "cell_type": "code",
   "execution_count": 1,
   "metadata": {
    "ExecuteTime": {
     "end_time": "2019-01-02T21:08:08.417604Z",
     "start_time": "2019-01-02T21:08:08.413343Z"
    },
    "collapsed": true
   },
   "outputs": [],
   "source": [
    "# import modules\n",
    "import os\n",
    "import shutil\n",
    "from datetime import date"
   ]
  },
  {
   "cell_type": "code",
   "execution_count": 4,
   "metadata": {
    "ExecuteTime": {
     "end_time": "2019-01-02T21:08:41.999336Z",
     "start_time": "2019-01-02T21:08:41.874175Z"
    }
   },
   "outputs": [],
   "source": [
    "'''Copying and renaming files'''\n",
    "\n",
    "def bidsify(origpath, destpath, n_sessions=2, scan_types=None, scan_names=None, detect_size=True, file_sizes=None, log_changes=True, log_name='CHANGES', verbose=False):\n",
    "    \n",
    "    # convert to absolute paths if relative path is passed\n",
    "    origpath_abs = os.path.abspath(origpath)\n",
    "    destpath_abs = os.path.abspath(destpath)\n",
    "    \n",
    "    # instantiate list of unsuccessfully handled file paths\n",
    "    problem_files = []\n",
    "    \n",
    "    # default output folder names\n",
    "    if scan_types is None:\n",
    "        scan_types = ['anat','func','log']\n",
    "    \n",
    "    # for name mapping based on file size\n",
    "    if detect_size and scan_names is None:\n",
    "        method = 'size'\n",
    "    \n",
    "    # for name mapping based on passed names\n",
    "    elif not detect_size and scan_names is None:\n",
    "        # use default dictionary of scan types\n",
    "        scan_names = {\n",
    "            'mprage' : 'T1w',\n",
    "            'bold1' : 'task-rest_run-01_bold',\n",
    "            'bold2' : 'task-mcr_run-02_bold',\n",
    "            'bold3' : 'task-swm_run-03_bold',\n",
    "            'bold4' : 'task-dd_run-04_bold',\n",
    "            'bold5' : 'task-rest_run-05_bold'\n",
    "            }\n",
    "        method = 'name'\n",
    "    \n",
    "    elif detect_size and scan_names:\n",
    "        raise ValueError('Cannot map by both scan_names and detect_size')\n",
    "        \n",
    "    if scan_names and type(scan_names) is not dict:\n",
    "        raise TypeError('scan_names must be a dict')\n",
    "\n",
    "    for i, (root, dirs, files) in enumerate(os.walk(origpath_abs)):\n",
    "        # create new directory structure\n",
    "        if i == 0:\n",
    "            [os.makedirs(destpath_abs+'/'+direc.split('_')[0]+'/ses-'+str(ses+1)+'/'+scantype, exist_ok=True) for direc in dirs for scantype in scan_types for ses in range(n_sessions)]\n",
    "        \n",
    "        # move and rename files\n",
    "        else:\n",
    "            file_list = [f for f in files if not f.startswith('.')]\n",
    "            if file_list:\n",
    "                if method == 'name':\n",
    "                    for file in file_list:\n",
    "                        old_filepath = os.path.join(root, file)\n",
    "                        new_filepath, problem_file = _rename_dict(file, root, n_sessions, scan_names, destpath_abs, log_changes, log_name, verbose)\n",
    "\n",
    "                        if new_filepath is not None:\n",
    "                            # move and rename\n",
    "                            shutil.copy(old_filepath, new_filepath)\n",
    "\n",
    "                            if verbose:\n",
    "                                print('moved ' + old_filepath + ' to ' + new_filepath)\n",
    "\n",
    "                        else:\n",
    "                            problem_files.append(problem_file)\n",
    "                        \n",
    "                elif method == 'size':\n",
    "                    print('a')\n",
    "                    \n",
    "                    \n",
    "                    \n",
    "                if problem_files:\n",
    "                    print('The following files were not successfully converted: ' + problem_files)"
   ]
  },
  {
   "cell_type": "code",
   "execution_count": 5,
   "metadata": {
    "ExecuteTime": {
     "end_time": "2019-01-02T21:08:45.282272Z",
     "start_time": "2019-01-02T21:08:45.170260Z"
    },
    "code_folding": [
     2
    ],
    "collapsed": true
   },
   "outputs": [],
   "source": [
    "'''Defines naming scheme for moved files'''\n",
    "\n",
    "def _rename_dict(file, root, n_sessions, scan_names, destpath_abs, log_changes, log_name, verbose):\n",
    "\n",
    "    # viarable to track unsuccessfully renamed files\n",
    "    problem_file = None\n",
    "\n",
    "    old_path = os.path.join(root, file)\n",
    "    base, ext = os.path.splitext(file)\n",
    "    splitpath = root.split('/')\n",
    "\n",
    "    # get subject ID\n",
    "    sub = splitpath[-2].split('_')[0]\n",
    "\n",
    "    # get session number\n",
    "    ses_number = splitpath[-2].split('_')[1]\n",
    "    if int(ses_number) <= n_sessions:\n",
    "        session = 'ses-'+ses_number\n",
    "\n",
    "    else:\n",
    "        print('unrecognized session number \\'' + ses_number + '\\' for subID ' + sub)\n",
    "        problem_file = file\n",
    "\n",
    "    # get scan type (or log)\n",
    "    if splitpath[-1] == 'ANATOMY':\n",
    "        runtype = 'anat'\n",
    "\n",
    "    elif splitpath[-1] == 'FUNCTIONAL':\n",
    "        runtype = 'func'\n",
    "\n",
    "    elif splitpath[-1] == 'LOG':\n",
    "        runtype = 'LOG'\n",
    "\n",
    "    else:\n",
    "        print('unrecognized scan or log folder ' + splitpath[-1] + ' for subID ' + sub)\n",
    "        problem_file = file\n",
    "\n",
    "        \n",
    "    # format scan name (or preserve name of log file)\n",
    "    if base in scan_names:\n",
    "        new_name = scan_names[base]\n",
    "\n",
    "    elif ext == '.log':\n",
    "        new_name = base\n",
    "\n",
    "    else:\n",
    "        print('unrecognized scan name ' + base + ' for file ' + file)\n",
    "        problem_file = file\n",
    "\n",
    "    try:\n",
    "        if runtype != 'LOG':\n",
    "            new_path = os.path.join(destpath_abs, sub, session, runtype, sub+'_'+new_name+ext)\n",
    "        else:\n",
    "            new_path = os.path.join(destpath_abs, sub, session, runtype, new_name+ext)\n",
    "            \n",
    "        if log_changes:\n",
    "            _writelog(log_name, old_path, destpath_abs, sub, session, new_name, ext, verbose)\n",
    "\n",
    "    except NameError:\n",
    "        new_path = None\n",
    "\n",
    "    \n",
    "    return new_path, problem_file"
   ]
  },
  {
   "cell_type": "code",
   "execution_count": null,
   "metadata": {
    "collapsed": true
   },
   "outputs": [],
   "source": [
    "def _rename_size()"
   ]
  },
  {
   "cell_type": "code",
   "execution_count": 4,
   "metadata": {
    "ExecuteTime": {
     "end_time": "2018-12-14T18:55:04.918241Z",
     "start_time": "2018-12-14T18:55:04.901491Z"
    },
    "collapsed": true
   },
   "outputs": [],
   "source": [
    "'''Writes/updates log of moving file'''\n",
    "\n",
    "def _writelog(log_name, old_path, destpath_abs, sub, session, new_name, ext, verbose):\n",
    "    \n",
    "    filename = os.path.join(destpath_abs, sub, session, 'LOG', log_name + '.log')\n",
    "    \n",
    "    if os.path.exists(filename):\n",
    "        mode = 'a'\n",
    "    \n",
    "    else:\n",
    "        mode = 'w'\n",
    "        \n",
    "    with open(filename, mode) as f:\n",
    "        f.write(\n",
    "            date.today().strftime('%Y-%m-%d') + '\\n' +\n",
    "            ' - ' + new_name+ext + ' moved from ' + old_path + '\\n'\n",
    "        )\n",
    "    \n",
    "    if verbose:\n",
    "        print('wrote to log file ' + filename)"
   ]
  },
  {
   "cell_type": "code",
   "execution_count": 15,
   "metadata": {
    "ExecuteTime": {
     "end_time": "2018-12-21T00:43:57.570317Z",
     "start_time": "2018-12-21T00:43:57.561243Z"
    }
   },
   "outputs": [
    {
     "ename": "FileNotFoundError",
     "evalue": "not there",
     "output_type": "error",
     "traceback": [
      "\u001b[0;31m---------------------------------------------------------------------------\u001b[0m",
      "\u001b[0;31mFileNotFoundError\u001b[0m                         Traceback (most recent call last)",
      "\u001b[0;32m<ipython-input-15-79845f60ea48>\u001b[0m in \u001b[0;36m<module>\u001b[0;34m()\u001b[0m\n\u001b[1;32m      2\u001b[0m     \u001b[0mprint\u001b[0m\u001b[0;34m(\u001b[0m\u001b[0;34m'success'\u001b[0m\u001b[0;34m)\u001b[0m\u001b[0;34m\u001b[0m\u001b[0m\n\u001b[1;32m      3\u001b[0m \u001b[0;32melse\u001b[0m\u001b[0;34m:\u001b[0m\u001b[0;34m\u001b[0m\u001b[0m\n\u001b[0;32m----> 4\u001b[0;31m     \u001b[0;32mraise\u001b[0m \u001b[0mFileNotFoundError\u001b[0m\u001b[0;34m(\u001b[0m\u001b[0;34m'not there'\u001b[0m\u001b[0;34m)\u001b[0m\u001b[0;34m\u001b[0m\u001b[0m\n\u001b[0m\u001b[1;32m      5\u001b[0m     \u001b[0mprint\u001b[0m\u001b[0;34m(\u001b[0m\u001b[0;36m3\u001b[0m\u001b[0;34m+\u001b[0m\u001b[0;36m4\u001b[0m\u001b[0;34m)\u001b[0m\u001b[0;34m\u001b[0m\u001b[0m\n",
      "\u001b[0;31mFileNotFoundError\u001b[0m: not there"
     ]
    }
   ],
   "source": [
    "if os.path.isfile('/Users/paxtonfitzpatrick/Desktop/egg6_mapping_tet.egg'):\n",
    "    print('success')\n",
    "else:\n",
    "    raise FileNotFoundError('not there')\n",
    "    print(3+4)"
   ]
  },
  {
   "cell_type": "code",
   "execution_count": 11,
   "metadata": {
    "ExecuteTime": {
     "end_time": "2019-01-02T21:13:33.689588Z",
     "start_time": "2019-01-02T21:13:33.670583Z"
    }
   },
   "outputs": [
    {
     "name": "stdout",
     "output_type": "stream",
     "text": [
      "/Users/paxtonfitzpatrick/Desktop/testorig/2022_1_asd/ANATOMY\n",
      "_______\n",
      "/Users/paxtonfitzpatrick/Desktop/testorig/2022_1_asd/LOG\n",
      "_______\n",
      "/Users/paxtonfitzpatrick/Desktop/testorig/2022_1_asd/FUNCTIONAL\n",
      "_______\n",
      "/Users/paxtonfitzpatrick/Desktop/testorig/2020_1_asd/ANATOMY\n",
      "_______\n",
      "/Users/paxtonfitzpatrick/Desktop/testorig/2020_1_asd/LOG\n",
      "_______\n",
      "/Users/paxtonfitzpatrick/Desktop/testorig/2020_1_asd/FUNCTIONAL\n",
      "_______\n",
      "/Users/paxtonfitzpatrick/Desktop/testorig/2019_1_asd/ANATOMY\n",
      "_______\n",
      "/Users/paxtonfitzpatrick/Desktop/testorig/2019_1_asd/LOG\n",
      "_______\n",
      "/Users/paxtonfitzpatrick/Desktop/testorig/2019_1_asd/FUNCTIONAL\n",
      "_______\n",
      "/Users/paxtonfitzpatrick/Desktop/testorig/2021_1_asd/ANATOMY\n",
      "_______\n",
      "/Users/paxtonfitzpatrick/Desktop/testorig/2021_1_asd/LOG\n",
      "_______\n",
      "/Users/paxtonfitzpatrick/Desktop/testorig/2021_1_asd/FUNCTIONAL\n",
      "_______\n",
      "/Users/paxtonfitzpatrick/Desktop/testorig/2023_1_asd/LOG\n",
      "_______\n",
      "/Users/paxtonfitzpatrick/Desktop/testorig/2018_1_asd/ANATOMY\n",
      "_______\n",
      "/Users/paxtonfitzpatrick/Desktop/testorig/2018_1_asd/LOG\n",
      "_______\n",
      "/Users/paxtonfitzpatrick/Desktop/testorig/2018_1_asd/FUNCTIONAL\n",
      "_______\n",
      "/Users/paxtonfitzpatrick/Desktop/testorig/2018_2_jkl/ANATOMY\n",
      "_______\n",
      "/Users/paxtonfitzpatrick/Desktop/testorig/2018_2_jkl/LOG\n",
      "_______\n",
      "/Users/paxtonfitzpatrick/Desktop/testorig/2018_2_jkl/FUNCTIONAL\n",
      "_______\n",
      "/Users/paxtonfitzpatrick/Desktop/testorig/2021_2_jkl/ANATOMY\n",
      "_______\n",
      "/Users/paxtonfitzpatrick/Desktop/testorig/2021_2_jkl/LOG\n",
      "_______\n",
      "/Users/paxtonfitzpatrick/Desktop/testorig/2021_2_jkl/FUNCTIONAL\n",
      "_______\n",
      "/Users/paxtonfitzpatrick/Desktop/testorig/2019_2_jkl/ANATOMY\n",
      "_______\n",
      "/Users/paxtonfitzpatrick/Desktop/testorig/2019_2_jkl/LOG\n",
      "_______\n",
      "/Users/paxtonfitzpatrick/Desktop/testorig/2019_2_jkl/FUNCTIONAL\n",
      "_______\n",
      "/Users/paxtonfitzpatrick/Desktop/testorig/2020_2_jkl/ANATOMY\n",
      "_______\n",
      "/Users/paxtonfitzpatrick/Desktop/testorig/2020_2_jkl/LOG\n",
      "_______\n",
      "/Users/paxtonfitzpatrick/Desktop/testorig/2020_2_jkl/FUNCTIONAL\n",
      "_______\n"
     ]
    }
   ],
   "source": [
    "for i, (root, dirs, files) in enumerate(os.walk('/Users/paxtonfitzpatrick/Desktop/testorig/')):\n",
    "    file_list = [f for f in files if not f.startswith('.')]\n",
    "    if file_list:\n",
    "        print(root)\n",
    "        print('_______')\n",
    "    #     print(dirs)\n",
    "    #     print('_______')\n",
    "#         print(files)\n",
    "#         print('_______')"
   ]
  },
  {
   "cell_type": "code",
   "execution_count": null,
   "metadata": {
    "collapsed": true
   },
   "outputs": [],
   "source": []
  }
 ],
 "metadata": {
  "kernelspec": {
   "display_name": "Python 3",
   "language": "python",
   "name": "python3"
  },
  "language_info": {
   "codemirror_mode": {
    "name": "ipython",
    "version": 3
   },
   "file_extension": ".py",
   "mimetype": "text/x-python",
   "name": "python",
   "nbconvert_exporter": "python",
   "pygments_lexer": "ipython3",
   "version": "3.6.2"
  }
 },
 "nbformat": 4,
 "nbformat_minor": 2
}
