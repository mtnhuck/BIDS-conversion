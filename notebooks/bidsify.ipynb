{
 "cells": [
  {
   "cell_type": "code",
   "execution_count": 66,
   "metadata": {
    "ExecuteTime": {
     "end_time": "2019-01-03T21:05:32.790098Z",
     "start_time": "2019-01-03T21:05:32.786526Z"
    },
    "collapsed": true
   },
   "outputs": [],
   "source": [
    "# import modules\n",
    "import os\n",
    "import shutil\n",
    "from datetime import date"
   ]
  },
  {
   "cell_type": "code",
   "execution_count": 1,
   "metadata": {
    "ExecuteTime": {
     "end_time": "2019-01-06T19:56:04.354785Z",
     "start_time": "2019-01-06T19:56:04.197425Z"
    }
   },
   "outputs": [
    {
     "ename": "SyntaxError",
     "evalue": "invalid syntax (<ipython-input-1-18672f7d9878>, line 58)",
     "output_type": "error",
     "traceback": [
      "\u001b[0;36m  File \u001b[0;32m\"<ipython-input-1-18672f7d9878>\"\u001b[0;36m, line \u001b[0;32m58\u001b[0m\n\u001b[0;31m    for old_filepath, new_filepath in path_map.items()\u001b[0m\n\u001b[0m                                                      ^\u001b[0m\n\u001b[0;31mSyntaxError\u001b[0m\u001b[0;31m:\u001b[0m invalid syntax\n"
     ]
    }
   ],
   "source": [
    "'''Copying and renaming files'''\n",
    "\n",
    "def bidsify(origpath, destpath, n_sessions=2, scan_types=None, detect_size=True, log_changes=True, log_name='CHANGES', verbose=False):\n",
    "    \n",
    "    \n",
    "    # NOTE: mapping old names to new names by passing a dict is not currently supported (scan_names kwarg).\n",
    "    # detect_size must be True (default) to work. Passing custom file size ranges not currently supported (file_sizes kwarg)\n",
    "    \n",
    "    # convert to absolute paths if relative path is passed\n",
    "    origpath_abs = os.path.abspath(origpath)\n",
    "    destpath_abs = os.path.abspath(destpath)\n",
    "    \n",
    "    # dict to hold unsuccessfully handled files with errors\n",
    "    problem_files = {}\n",
    "    \n",
    "    # default output folder names\n",
    "    if scan_types is None:\n",
    "        scan_types = ['anat','func','log']\n",
    "    \n",
    "    # for name mapping based on file size\n",
    "    if detect_size:    #and scan_names is None:\n",
    "        method = 'size'\n",
    "        \n",
    "    else:\n",
    "        raise ValueError('detect_size must be True. Mapping by other file attributes not currently supported.')\n",
    "    \n",
    "    # for name mapping based on passed names\n",
    "#     elif not detect_size and scan_names is None:\n",
    "#         # use default dictionary of scan types\n",
    "#         scan_names = {\n",
    "#             'mprage' : 'T1w',\n",
    "#             'bold1' : 'task-rest_run-01_bold',\n",
    "#             'bold2' : 'task-mcr_run-02_bold',\n",
    "#             'bold3' : 'task-swm_run-03_bold',\n",
    "#             'bold4' : 'task-dd_run-04_bold',\n",
    "#             'bold5' : 'task-rest_run-05_bold'\n",
    "#             }\n",
    "#         method = 'name'\n",
    "    \n",
    "#     elif detect_size and scan_names:\n",
    "#         raise ValueError('Cannot map by both scan_names and detect_size')\n",
    "        \n",
    "#     if scan_names and type(scan_names) is not dict:\n",
    "#         raise TypeError('scan_names must be a dict')\n",
    "\n",
    "    for i, (root, dirs, files) in enumerate(os.walk(origpath_abs)):\n",
    "        # create new directory structure\n",
    "        if i == 0:\n",
    "            [os.makedirs(destpath_abs+'/'+direc.split('_')[0]+'/ses-'+str(ses+1)+'/'+scantype, exist_ok=True) for direc in dirs for scantype in scan_types for ses in range(n_sessions)]\n",
    "        \n",
    "        # move and rename files\n",
    "        else:\n",
    "            file_list = [f for f in files if not f.startswith('.')]\n",
    "            if file_list:\n",
    "                if method == 'size':\n",
    "                    path_map, prob_fs = _rename_size(file_list, root, n_sessions, destpath_abs, log_changes, log_name, verbose)\n",
    "                    \n",
    "                    for old_filepath, new_filepath in path_map.items():\n",
    "                        try:\n",
    "                            shutil.copy(old_filepath, new_filepath)\n",
    "                            \n",
    "                            if verbose:\n",
    "                                print('moved ' + olf_filepath + ' to ' + new_filepath)\n",
    "                        \n",
    "                        # new_filepath is None if error occurs\n",
    "                        except TypeError:\n",
    "                            pass\n",
    "                            \n",
    "                    if prob_fs:\n",
    "                        problem_files.update(prob_fs)\n",
    "                                \n",
    "#                 elif method == 'name':\n",
    "#                     for file in file_list:\n",
    "#                         old_filepath = os.path.join(root, file)\n",
    "#                         new_filepath, problem_file = _rename_dict(file, root, n_sessions, scan_names, destpath_abs, log_changes, log_name, verbose)\n",
    "\n",
    "#                         if new_filepath is not None:\n",
    "#                             # move and rename\n",
    "#                             shutil.copy(old_filepath, new_filepath)\n",
    "\n",
    "#                             if verbose:\n",
    "#                                 print('moved ' + old_filepath + ' to ' + new_filepath)\n",
    "\n",
    "#                         else:\n",
    "#                             problem_files.append(problem_file)       \n",
    "                    \n",
    "                    \n",
    "    if problem_files:\n",
    "        print('The following files were not successfully converted: ' + problem_files)"
   ]
  },
  {
   "cell_type": "code",
   "execution_count": 5,
   "metadata": {
    "ExecuteTime": {
     "end_time": "2019-01-02T21:08:45.282272Z",
     "start_time": "2019-01-02T21:08:45.170260Z"
    },
    "code_folding": [],
    "collapsed": true
   },
   "outputs": [],
   "source": [
    "# def _rename_dict(file, root, n_sessions, scan_names, destpath_abs, log_changes, log_name, verbose):\n",
    "\n",
    "#     # viarable to track unsuccessfully renamed files\n",
    "#     problem_file = None\n",
    "\n",
    "#     old_path = os.path.join(root, file)\n",
    "#     base, ext = os.path.splitext(file)\n",
    "#     splitpath = root.split('/')\n",
    "\n",
    "#     # get subject ID\n",
    "#     sub = splitpath[-2].split('_')[0]\n",
    "\n",
    "#     # get session number\n",
    "#     ses_number = splitpath[-2].split('_')[1]\n",
    "#     if int(ses_number) <= n_sessions:\n",
    "#         session = 'ses-'+ses_number\n",
    "\n",
    "#     else:\n",
    "#         print('unrecognized session number \\'' + ses_number + '\\' for subID ' + sub)\n",
    "#         problem_file = file\n",
    "\n",
    "#     # get scan type (or log)\n",
    "#     if splitpath[-1] == 'ANATOMY':\n",
    "#         runtype = 'anat'\n",
    "\n",
    "#     elif splitpath[-1] == 'FUNCTIONAL':\n",
    "#         runtype = 'func'\n",
    "\n",
    "#     elif splitpath[-1] == 'LOG':\n",
    "#         runtype = 'LOG'\n",
    "\n",
    "#     else:\n",
    "#         print('unrecognized scan or log folder ' + splitpath[-1] + ' for subID ' + sub)\n",
    "#         problem_file = file\n",
    "\n",
    "        \n",
    "#     # format scan name (or preserve name of log file)\n",
    "#     if base in scan_names:\n",
    "#         new_name = scan_names[base]\n",
    "\n",
    "#     elif ext == '.log':\n",
    "#         new_name = base\n",
    "\n",
    "#     else:\n",
    "#         print('unrecognized scan name ' + base + ' for file ' + file)\n",
    "#         problem_file = file\n",
    "\n",
    "#     try:\n",
    "#         if runtype != 'LOG':\n",
    "#             new_path = os.path.join(destpath_abs, sub, session, runtype, sub+'_'+new_name+ext)\n",
    "#         else:\n",
    "#             new_path = os.path.join(destpath_abs, sub, session, runtype, new_name+ext)\n",
    "            \n",
    "#         if log_changes:\n",
    "#             _writelog(log_name, old_path, destpath_abs, sub, session, new_name, ext, verbose)\n",
    "\n",
    "#     except NameError:\n",
    "#         new_path = None\n",
    "\n",
    "    \n",
    "#     return new_path, problem_file"
   ]
  },
  {
   "cell_type": "code",
   "execution_count": null,
   "metadata": {
    "collapsed": true
   },
   "outputs": [],
   "source": [
    "'''Defines naming scheme for moved files based on size'''\n",
    "\n",
    "def _rename_size(file_list, root, n_sessions, destpath_abs, log_changes, log_name, verbose):\n",
    "    \n",
    "    old_fps = [os.path.join(root,file) for file in file_list]\n",
    "    path_maps = dict.fromkeys(old_fps)\n",
    "    sizes_dict = {os.stat(file).st_size: file for file in old_fps}\n",
    "    prob_fs = {}\n",
    "    splitpath = root.split('/')\n",
    "    \n",
    "    # get subject ID\n",
    "    sub = splitpath[-2].split('_')[0]\n",
    "    \n",
    "    # get session number\n",
    "    ses_number = splitpath[-2].split('_')[1]\n",
    "    if int(ses_number) <= n_sessions:\n",
    "        session = 'ses-'+ses_number\n",
    "        \n",
    "    else:\n",
    "        prob_fs[sub]= 'unrecognized session number: ' + ses_number\n",
    "        return path_maps, prob_fs\n",
    "        \n",
    "    \n",
    "    # deal with anatomical scans\n",
    "    if splitpath[-1] == 'ANATOMY':\n",
    "        # expected size for mprage files (bytes)\n",
    "        right_size = 28836192\n",
    "        # use file that matches expected size, or if none do, use one closest to expected size\n",
    "        best_scan = sizes_dict[right_size] if right_size in sizes_dict else sizes_dict[min(sizes_dict.keys(), key=lambda k: abs(k-right_size))]\n",
    "        \n",
    "        if right_size not in sizes_dict.keys():\n",
    "            prob_fs[best_scan.split('/')[-1]] = 'No mprage of expected size. Used closest match: ' + best_scan.split('/')[-1])\n",
    "        \n",
    "        new_name = 'T1w.nii'\n",
    "        path_maps[best_scan] = os.path.join(destpath_abs, sub, session, 'anat', sub+'_T1w.nii')\n",
    "        \n",
    "        \n",
    "    # deal with functional scans\n",
    "    elif splitpath[-1] == 'FUNCTIONAL':\n",
    "        rests = []\n",
    "        mcrs = []\n",
    "        swms = []\n",
    "        leftovers = []\n",
    "        for size, old_file in sizes_dict.items():\n",
    "            # expected size of resting state scan (+/- 2kb)\n",
    "            if size in range(110590352, 110594352):\n",
    "                rests.append(old_file)\n",
    "                \n",
    "            # expected size of mcr scan (+/- 2kb)    \n",
    "            elif size in range(77412752, 77416752):\n",
    "                mrcs.append(old_file)\n",
    "            \n",
    "            # expected size of swm scan (+/- 2kb)\n",
    "            elif size in range(82942352, 82946352):\n",
    "                swms.append(old_file) \n",
    "            else:\n",
    "                leftovers.append(old_file)\n",
    "        \n",
    "        # map resting state scans\n",
    "        if not rests:\n",
    "            prob_fs['Resting state'] = 'No scan files matching expected size for Resting State.'\n",
    "            \n",
    "        elif len(rests) == 1:\n",
    "            prob_fs['Resting state'] = 'Unable to determine which Resting State scan for file: ' + rests[0]\n",
    "            \n",
    "        elif len(rests) == 2:\n",
    "            rest1, rest2 = sorted(rests)[0], sorted(rests)[1]\n",
    "            path_maps[rest1] = os.path.join(destpath_abs, sub, session, 'func', sub+'_task-rest_run-01_bold.nii')\n",
    "            path_maps[rest2] = os.path.join(destpath_abs, sub, session, 'func', sub+'_task-rest_run-05_bold.nii')\n",
    "        else:\n",
    "            prob_fs['Resting state'] = 'Unable to identify Resting State 1 vs 2 from choices: ' + rests[0]\n",
    "                    \n",
    "        # map mcr scans\n",
    "        if mcrs:\n",
    "            path_maps[mcrs[-1]] = os.path.join(destpath_abs, sub, session, 'func', sub+'_task-mcr_run-02_bold.nii')\n",
    "        else:\n",
    "            prob_fs['MCR'] = 'No scan files matching expected size for MCR'\n",
    "            \n",
    "        # map swm scans\n",
    "        if swms:\n",
    "            path_maps[swms[-1]] = os.path.join(destpath_abs, sub, session, 'func', sub+'_task-swm_run-03_bold.nii')\n",
    "        else:\n",
    "            prob_fs['SWM'] = 'No scan files matching expected size for SWM'\n",
    " \n",
    "         \n",
    "        if len(leftovers) == 1:\n",
    "            path_maps[leftovers[0]] = os.path.join(destpath_abs, sub, session, 'func', sub+'_task-dd_run-04_bold.nii')\n",
    "        else:\n",
    "            prob_fs['DD'] = 'Unable to identify DD scan from choices: ' + str(leftovers)\n",
    "            \n",
    "                \n",
    "                \n",
    "    elif splitpath[-1] == 'LOG':\n",
    "        runtype = 'LOG'\n",
    "        # keep existing name\n",
    "        for file in old_fps:\n",
    "            path_maps[file] = file\n",
    "        \n",
    "        \n",
    "    else:\n",
    "        prob_fs[file_list] = 'unrecognized scan or log folder: ' + splitpath[-1]\n",
    "        return path_maps, prob_fs\n",
    "        \n",
    "        \n",
    "        \n",
    "        \n",
    "    # filter path_maps to remove keys with None values\n",
    "        \n",
    "        \n",
    "        \n",
    "        \n",
    "    return filtered_path_maps, prob_fs"
   ]
  },
  {
   "cell_type": "code",
   "execution_count": 4,
   "metadata": {
    "ExecuteTime": {
     "end_time": "2018-12-14T18:55:04.918241Z",
     "start_time": "2018-12-14T18:55:04.901491Z"
    },
    "code_folding": [
     2
    ],
    "collapsed": true
   },
   "outputs": [],
   "source": [
    "'''Writes/updates log of moving file'''\n",
    "\n",
    "def _writelog(log_name, old_path, destpath_abs, sub, session, new_name, ext, verbose):\n",
    "    \n",
    "    filename = os.path.join(destpath_abs, sub, session, 'LOG', log_name + '.log')\n",
    "    \n",
    "    if os.path.exists(filename):\n",
    "        mode = 'a'\n",
    "    \n",
    "    else:\n",
    "        mode = 'w'\n",
    "        \n",
    "    with open(filename, mode) as f:\n",
    "        f.write(\n",
    "            date.today().strftime('%Y-%m-%d') + '\\n' +\n",
    "            ' - ' + new_name+ext + ' moved from ' + old_path + '\\n'\n",
    "        )\n",
    "    \n",
    "    if verbose:\n",
    "        print('wrote to log file ' + filename)"
   ]
  },
  {
   "cell_type": "code",
   "execution_count": 45,
   "metadata": {
    "ExecuteTime": {
     "end_time": "2019-01-02T21:49:41.131000Z",
     "start_time": "2019-01-02T21:49:41.126843Z"
    }
   },
   "outputs": [
    {
     "data": {
      "text/plain": [
       "15"
      ]
     },
     "execution_count": 45,
     "metadata": {},
     "output_type": "execute_result"
    }
   ],
   "source": [
    "os.stat('/Users/paxtonfitzpatrick/Desktop/testorig/2018_1_asd/FUNCTIONAL/bold2.txt').st_size"
   ]
  },
  {
   "cell_type": "code",
   "execution_count": 14,
   "metadata": {
    "ExecuteTime": {
     "end_time": "2019-01-02T21:15:09.536695Z",
     "start_time": "2019-01-02T21:15:09.533887Z"
    },
    "code_folding": [],
    "collapsed": true
   },
   "outputs": [],
   "source": [
    "# if os.path.isfile('/Users/paxtonfitzpatrick/Desktop/egg6_mapping_tet.egg'):\n",
    "#     print('success')\n",
    "# else:\n",
    "#     raise FileNotFoundError('not there')\n",
    "#     print(3+4)"
   ]
  },
  {
   "cell_type": "code",
   "execution_count": 77,
   "metadata": {
    "ExecuteTime": {
     "end_time": "2019-01-02T22:10:04.895684Z",
     "start_time": "2019-01-02T22:10:04.862212Z"
    },
    "scrolled": true
   },
   "outputs": [
    {
     "name": "stdout",
     "output_type": "stream",
     "text": [
      "['mprage.txt']\n",
      "_______\n",
      "/Users/paxtonfitzpatrick/Desktop/testorig/2022_1_asd/ANATOMY\n",
      "['2018_1_asd.log']\n",
      "_______\n",
      "/Users/paxtonfitzpatrick/Desktop/testorig/2022_1_asd/LOG\n",
      "['bold3.txt', 'bold2.txt', 'bold1.txt']\n",
      "_______\n",
      "/Users/paxtonfitzpatrick/Desktop/testorig/2022_1_asd/FUNCTIONAL\n",
      "['mprage.txt']\n",
      "_______\n",
      "/Users/paxtonfitzpatrick/Desktop/testorig/2020_1_asd/ANATOMY\n",
      "['2018_1_asd.log']\n",
      "_______\n",
      "/Users/paxtonfitzpatrick/Desktop/testorig/2020_1_asd/LOG\n",
      "['bold3.txt', 'bold2.txt', 'bold1.txt']\n",
      "_______\n",
      "/Users/paxtonfitzpatrick/Desktop/testorig/2020_1_asd/FUNCTIONAL\n",
      "['mprage.txt']\n",
      "_______\n",
      "/Users/paxtonfitzpatrick/Desktop/testorig/2019_1_asd/ANATOMY\n",
      "['2018_1_asd.log']\n",
      "_______\n",
      "/Users/paxtonfitzpatrick/Desktop/testorig/2019_1_asd/LOG\n",
      "['bold3.txt', 'bold2.txt', 'bold1.txt']\n",
      "_______\n",
      "/Users/paxtonfitzpatrick/Desktop/testorig/2019_1_asd/FUNCTIONAL\n",
      "['mprage.txt']\n",
      "_______\n",
      "/Users/paxtonfitzpatrick/Desktop/testorig/2021_1_asd/ANATOMY\n",
      "['2018_1_asd.log']\n",
      "_______\n",
      "/Users/paxtonfitzpatrick/Desktop/testorig/2021_1_asd/LOG\n",
      "['bold3.txt', 'bold2.txt', 'bold1.txt']\n",
      "_______\n",
      "/Users/paxtonfitzpatrick/Desktop/testorig/2021_1_asd/FUNCTIONAL\n",
      "['2018_1_asd.log']\n",
      "_______\n",
      "/Users/paxtonfitzpatrick/Desktop/testorig/2023_1_asd/LOG\n",
      "['mprage.txt']\n",
      "_______\n",
      "/Users/paxtonfitzpatrick/Desktop/testorig/2018_1_asd/ANATOMY\n",
      "['2018_1_asd.log']\n",
      "_______\n",
      "/Users/paxtonfitzpatrick/Desktop/testorig/2018_1_asd/LOG\n",
      "['bold3.txt', 'bold2.txt', 'bold1.txt']\n",
      "_______\n",
      "/Users/paxtonfitzpatrick/Desktop/testorig/2018_1_asd/FUNCTIONAL\n",
      "['mprage.txt']\n",
      "_______\n",
      "/Users/paxtonfitzpatrick/Desktop/testorig/2018_2_jkl/ANATOMY\n",
      "['2018_2_jkl.log']\n",
      "_______\n",
      "/Users/paxtonfitzpatrick/Desktop/testorig/2018_2_jkl/LOG\n",
      "['bold5.txt', 'bold4.txt', 'bold1.txt']\n",
      "_______\n",
      "/Users/paxtonfitzpatrick/Desktop/testorig/2018_2_jkl/FUNCTIONAL\n",
      "['mprage.txt']\n",
      "_______\n",
      "/Users/paxtonfitzpatrick/Desktop/testorig/2021_2_jkl/ANATOMY\n",
      "['2018_2_jkl.log']\n",
      "_______\n",
      "/Users/paxtonfitzpatrick/Desktop/testorig/2021_2_jkl/LOG\n",
      "['bold5.txt', 'bold4.txt', 'bold1.txt']\n",
      "_______\n",
      "/Users/paxtonfitzpatrick/Desktop/testorig/2021_2_jkl/FUNCTIONAL\n",
      "['mprage.txt']\n",
      "_______\n",
      "/Users/paxtonfitzpatrick/Desktop/testorig/2019_2_jkl/ANATOMY\n",
      "['2018_2_jkl.log']\n",
      "_______\n",
      "/Users/paxtonfitzpatrick/Desktop/testorig/2019_2_jkl/LOG\n",
      "['bold5.txt', 'bold4.txt', 'bold1.txt']\n",
      "_______\n",
      "/Users/paxtonfitzpatrick/Desktop/testorig/2019_2_jkl/FUNCTIONAL\n",
      "['mprage.txt']\n",
      "_______\n",
      "/Users/paxtonfitzpatrick/Desktop/testorig/2020_2_jkl/ANATOMY\n",
      "['2018_2_jkl.log']\n",
      "_______\n",
      "/Users/paxtonfitzpatrick/Desktop/testorig/2020_2_jkl/LOG\n",
      "['bold5.txt', 'bold4.txt', 'bold1.txt']\n",
      "_______\n",
      "/Users/paxtonfitzpatrick/Desktop/testorig/2020_2_jkl/FUNCTIONAL\n"
     ]
    }
   ],
   "source": [
    "for i, (root, dirs, files) in enumerate(os.walk('/Users/paxtonfitzpatrick/Desktop/testorig/')):\n",
    "    file_list = [f for f in files if not f.startswith('.')]\n",
    "    if file_list:\n",
    "        print(file_list)\n",
    "        print('_______')\n",
    "        print(root)\n",
    "\n",
    "    #     print(dirs)\n",
    "    #     print('_______')\n",
    "#         print(files)\n",
    "#         print('_______')"
   ]
  },
  {
   "cell_type": "code",
   "execution_count": 67,
   "metadata": {
    "ExecuteTime": {
     "end_time": "2019-01-03T21:09:01.031110Z",
     "start_time": "2019-01-03T21:09:01.013968Z"
    },
    "scrolled": true
   },
   "outputs": [
    {
     "ename": "TypeError",
     "evalue": "stat: path should be string, bytes, os.PathLike or integer, not NoneType",
     "output_type": "error",
     "traceback": [
      "\u001b[0;31m---------------------------------------------------------------------------\u001b[0m",
      "\u001b[0;31mTypeError\u001b[0m                                 Traceback (most recent call last)",
      "\u001b[0;32m<ipython-input-67-4cb7283477b3>\u001b[0m in \u001b[0;36m<module>\u001b[0;34m()\u001b[0m\n\u001b[0;32m----> 1\u001b[0;31m \u001b[0mshutil\u001b[0m\u001b[0;34m.\u001b[0m\u001b[0mcopy\u001b[0m\u001b[0;34m(\u001b[0m\u001b[0;34m'/Users/paxtonfitzpatrick/Desktop/fuckitpy/'\u001b[0m\u001b[0;34m,\u001b[0m \u001b[0;32mNone\u001b[0m\u001b[0;34m)\u001b[0m\u001b[0;34m\u001b[0m\u001b[0m\n\u001b[0m",
      "\u001b[0;32m~/anaconda/envs/py36/lib/python3.6/shutil.py\u001b[0m in \u001b[0;36mcopy\u001b[0;34m(src, dst, follow_symlinks)\u001b[0m\n\u001b[1;32m    237\u001b[0m \u001b[0;34m\u001b[0m\u001b[0m\n\u001b[1;32m    238\u001b[0m     \"\"\"\n\u001b[0;32m--> 239\u001b[0;31m     \u001b[0;32mif\u001b[0m \u001b[0mos\u001b[0m\u001b[0;34m.\u001b[0m\u001b[0mpath\u001b[0m\u001b[0;34m.\u001b[0m\u001b[0misdir\u001b[0m\u001b[0;34m(\u001b[0m\u001b[0mdst\u001b[0m\u001b[0;34m)\u001b[0m\u001b[0;34m:\u001b[0m\u001b[0;34m\u001b[0m\u001b[0m\n\u001b[0m\u001b[1;32m    240\u001b[0m         \u001b[0mdst\u001b[0m \u001b[0;34m=\u001b[0m \u001b[0mos\u001b[0m\u001b[0;34m.\u001b[0m\u001b[0mpath\u001b[0m\u001b[0;34m.\u001b[0m\u001b[0mjoin\u001b[0m\u001b[0;34m(\u001b[0m\u001b[0mdst\u001b[0m\u001b[0;34m,\u001b[0m \u001b[0mos\u001b[0m\u001b[0;34m.\u001b[0m\u001b[0mpath\u001b[0m\u001b[0;34m.\u001b[0m\u001b[0mbasename\u001b[0m\u001b[0;34m(\u001b[0m\u001b[0msrc\u001b[0m\u001b[0;34m)\u001b[0m\u001b[0;34m)\u001b[0m\u001b[0;34m\u001b[0m\u001b[0m\n\u001b[1;32m    241\u001b[0m     \u001b[0mcopyfile\u001b[0m\u001b[0;34m(\u001b[0m\u001b[0msrc\u001b[0m\u001b[0;34m,\u001b[0m \u001b[0mdst\u001b[0m\u001b[0;34m,\u001b[0m \u001b[0mfollow_symlinks\u001b[0m\u001b[0;34m=\u001b[0m\u001b[0mfollow_symlinks\u001b[0m\u001b[0;34m)\u001b[0m\u001b[0;34m\u001b[0m\u001b[0m\n",
      "\u001b[0;32m~/anaconda/envs/py36/lib/python3.6/genericpath.py\u001b[0m in \u001b[0;36misdir\u001b[0;34m(s)\u001b[0m\n\u001b[1;32m     40\u001b[0m     \u001b[0;34m\"\"\"Return true if the pathname refers to an existing directory.\"\"\"\u001b[0m\u001b[0;34m\u001b[0m\u001b[0m\n\u001b[1;32m     41\u001b[0m     \u001b[0;32mtry\u001b[0m\u001b[0;34m:\u001b[0m\u001b[0;34m\u001b[0m\u001b[0m\n\u001b[0;32m---> 42\u001b[0;31m         \u001b[0mst\u001b[0m \u001b[0;34m=\u001b[0m \u001b[0mos\u001b[0m\u001b[0;34m.\u001b[0m\u001b[0mstat\u001b[0m\u001b[0;34m(\u001b[0m\u001b[0ms\u001b[0m\u001b[0;34m)\u001b[0m\u001b[0;34m\u001b[0m\u001b[0m\n\u001b[0m\u001b[1;32m     43\u001b[0m     \u001b[0;32mexcept\u001b[0m \u001b[0mOSError\u001b[0m\u001b[0;34m:\u001b[0m\u001b[0;34m\u001b[0m\u001b[0m\n\u001b[1;32m     44\u001b[0m         \u001b[0;32mreturn\u001b[0m \u001b[0;32mFalse\u001b[0m\u001b[0;34m\u001b[0m\u001b[0m\n",
      "\u001b[0;31mTypeError\u001b[0m: stat: path should be string, bytes, os.PathLike or integer, not NoneType"
     ]
    }
   ],
   "source": [
    "shutil.copy('/Users/paxtonfitzpatrick/Desktop/fuckitpy/', None)"
   ]
  },
  {
   "cell_type": "code",
   "execution_count": 11,
   "metadata": {
    "ExecuteTime": {
     "end_time": "2019-01-09T21:18:32.565705Z",
     "start_time": "2019-01-09T21:18:32.563166Z"
    },
    "collapsed": true
   },
   "outputs": [],
   "source": [
    "testdict = {}"
   ]
  },
  {
   "cell_type": "code",
   "execution_count": 14,
   "metadata": {
    "ExecuteTime": {
     "end_time": "2019-01-09T21:19:12.608063Z",
     "start_time": "2019-01-09T21:19:12.603218Z"
    },
    "collapsed": true
   },
   "outputs": [],
   "source": [
    "for k,v in testdict.items():\n",
    "    if k in range(10):\n",
    "        print('a')\n",
    "        \n",
    "    else:\n",
    "        print('b')"
   ]
  },
  {
   "cell_type": "code",
   "execution_count": 16,
   "metadata": {
    "ExecuteTime": {
     "end_time": "2019-01-09T21:42:33.806595Z",
     "start_time": "2019-01-09T21:42:33.794694Z"
    }
   },
   "outputs": [
    {
     "ename": "NameError",
     "evalue": "name 'testvar' is not defined",
     "output_type": "error",
     "traceback": [
      "\u001b[0;31m---------------------------------------------------------------------------\u001b[0m",
      "\u001b[0;31mNameError\u001b[0m                                 Traceback (most recent call last)",
      "\u001b[0;32m<ipython-input-16-632f99185439>\u001b[0m in \u001b[0;36m<module>\u001b[0;34m()\u001b[0m\n\u001b[0;32m----> 1\u001b[0;31m \u001b[0mtestdict\u001b[0m\u001b[0;34m[\u001b[0m\u001b[0mtestvar\u001b[0m\u001b[0;34m]\u001b[0m \u001b[0;34m=\u001b[0m \u001b[0;34m'test'\u001b[0m\u001b[0;34m\u001b[0m\u001b[0m\n\u001b[0m",
      "\u001b[0;31mNameError\u001b[0m: name 'testvar' is not defined"
     ]
    }
   ],
   "source": [
    "testdict[testvar] = 'test'"
   ]
  },
  {
   "cell_type": "code",
   "execution_count": 28,
   "metadata": {
    "ExecuteTime": {
     "end_time": "2019-01-09T21:47:32.886227Z",
     "start_time": "2019-01-09T21:47:32.881520Z"
    }
   },
   "outputs": [],
   "source": [
    "def thingy(l):\n",
    "    if len(l) == 3:\n",
    "        print('a')\n",
    "    elif not l:\n",
    "        print('b')\n",
    "    elif len(l) == 9:\n",
    "        print('c')"
   ]
  },
  {
   "cell_type": "code",
   "execution_count": 30,
   "metadata": {
    "ExecuteTime": {
     "end_time": "2019-01-09T22:01:21.335773Z",
     "start_time": "2019-01-09T22:01:21.331070Z"
    }
   },
   "outputs": [],
   "source": [
    "allnums = [i for i in range(100)]\n",
    "evens = [i for i in allnums if i%2==0]\n",
    "div3s = [i for i in allnums if i%3==0]"
   ]
  },
  {
   "cell_type": "code",
   "execution_count": 36,
   "metadata": {
    "ExecuteTime": {
     "end_time": "2019-01-09T22:05:47.456981Z",
     "start_time": "2019-01-09T22:05:47.451790Z"
    }
   },
   "outputs": [
    {
     "data": {
      "text/plain": [
       "[1,\n",
       " 5,\n",
       " 7,\n",
       " 11,\n",
       " 13,\n",
       " 17,\n",
       " 19,\n",
       " 23,\n",
       " 25,\n",
       " 29,\n",
       " 31,\n",
       " 35,\n",
       " 37,\n",
       " 41,\n",
       " 43,\n",
       " 47,\n",
       " 49,\n",
       " 53,\n",
       " 55,\n",
       " 59,\n",
       " 61,\n",
       " 65,\n",
       " 67,\n",
       " 71,\n",
       " 73,\n",
       " 77,\n",
       " 79,\n",
       " 83,\n",
       " 85,\n",
       " 89,\n",
       " 91,\n",
       " 95,\n",
       " 97]"
      ]
     },
     "execution_count": 36,
     "metadata": {},
     "output_type": "execute_result"
    }
   ],
   "source": [
    "[i for i in allnums if i not in evens and i not in div3s]"
   ]
  },
  {
   "cell_type": "code",
   "execution_count": 38,
   "metadata": {
    "ExecuteTime": {
     "end_time": "2019-01-09T22:08:24.103225Z",
     "start_time": "2019-01-09T22:08:24.100149Z"
    }
   },
   "outputs": [],
   "source": [
    "numdict = {i: str(i) for i in range(100)}"
   ]
  },
  {
   "cell_type": "code",
   "execution_count": 42,
   "metadata": {
    "ExecuteTime": {
     "end_time": "2019-01-09T22:10:25.787001Z",
     "start_time": "2019-01-09T22:10:25.781889Z"
    }
   },
   "outputs": [
    {
     "data": {
      "text/plain": [
       "['1',\n",
       " '3',\n",
       " '5',\n",
       " '7',\n",
       " '9',\n",
       " '11',\n",
       " '13',\n",
       " '15',\n",
       " '17',\n",
       " '19',\n",
       " '21',\n",
       " '23',\n",
       " '25',\n",
       " '27',\n",
       " '29',\n",
       " '31',\n",
       " '33',\n",
       " '35',\n",
       " '37',\n",
       " '39',\n",
       " '41',\n",
       " '43',\n",
       " '45',\n",
       " '47',\n",
       " '49',\n",
       " '51',\n",
       " '53',\n",
       " '55',\n",
       " '57',\n",
       " '59',\n",
       " '61',\n",
       " '63',\n",
       " '65',\n",
       " '67',\n",
       " '69',\n",
       " '71',\n",
       " '73',\n",
       " '75',\n",
       " '77',\n",
       " '79',\n",
       " '81',\n",
       " '83',\n",
       " '85',\n",
       " '87',\n",
       " '89',\n",
       " '91',\n",
       " '93',\n",
       " '95',\n",
       " '97',\n",
       " '99']"
      ]
     },
     "execution_count": 42,
     "metadata": {},
     "output_type": "execute_result"
    }
   ],
   "source": [
    "[val for key,val in numdict.items() if key not in evens]"
   ]
  },
  {
   "cell_type": "code",
   "execution_count": 44,
   "metadata": {
    "ExecuteTime": {
     "end_time": "2019-01-09T22:20:35.045301Z",
     "start_time": "2019-01-09T22:20:35.042568Z"
    }
   },
   "outputs": [],
   "source": [
    "l = ['a']"
   ]
  },
  {
   "cell_type": "code",
   "execution_count": 45,
   "metadata": {
    "ExecuteTime": {
     "end_time": "2019-01-09T22:20:42.426561Z",
     "start_time": "2019-01-09T22:20:42.422658Z"
    }
   },
   "outputs": [
    {
     "data": {
      "text/plain": [
       "[]"
      ]
     },
     "execution_count": 45,
     "metadata": {},
     "output_type": "execute_result"
    }
   ],
   "source": [
    "l[0:-1]"
   ]
  },
  {
   "cell_type": "code",
   "execution_count": null,
   "metadata": {
    "collapsed": true
   },
   "outputs": [],
   "source": []
  }
 ],
 "metadata": {
  "kernelspec": {
   "display_name": "Python 3",
   "language": "python",
   "name": "python3"
  },
  "language_info": {
   "codemirror_mode": {
    "name": "ipython",
    "version": 3
   },
   "file_extension": ".py",
   "mimetype": "text/x-python",
   "name": "python",
   "nbconvert_exporter": "python",
   "pygments_lexer": "ipython3",
   "version": "3.6.2"
  }
 },
 "nbformat": 4,
 "nbformat_minor": 2
}
