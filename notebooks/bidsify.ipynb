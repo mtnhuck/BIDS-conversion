{
 "cells": [
  {
   "cell_type": "code",
   "execution_count": 66,
   "metadata": {
    "ExecuteTime": {
     "end_time": "2019-01-03T21:05:32.790098Z",
     "start_time": "2019-01-03T21:05:32.786526Z"
    },
    "collapsed": true
   },
   "outputs": [],
   "source": [
    "# import modules\n",
    "import os\n",
    "import shutil\n",
    "from datetime import date"
   ]
  },
  {
   "cell_type": "code",
   "execution_count": 1,
   "metadata": {
    "ExecuteTime": {
     "end_time": "2019-01-06T19:56:04.354785Z",
     "start_time": "2019-01-06T19:56:04.197425Z"
    }
   },
   "outputs": [
    {
     "ename": "SyntaxError",
     "evalue": "invalid syntax (<ipython-input-1-18672f7d9878>, line 58)",
     "output_type": "error",
     "traceback": [
      "\u001b[0;36m  File \u001b[0;32m\"<ipython-input-1-18672f7d9878>\"\u001b[0;36m, line \u001b[0;32m58\u001b[0m\n\u001b[0;31m    for old_filepath, new_filepath in path_map.items()\u001b[0m\n\u001b[0m                                                      ^\u001b[0m\n\u001b[0;31mSyntaxError\u001b[0m\u001b[0;31m:\u001b[0m invalid syntax\n"
     ]
    }
   ],
   "source": [
    "'''Copying and renaming files'''\n",
    "\n",
    "def bidsify(origpath, destpath, n_sessions=2, scan_types=None, detect_size=True, log_changes=True, log_name='CHANGES', verbose=False):\n",
    "    \n",
    "    \n",
    "    # NOTE: mapping old names to new names by passing a dict is not currently supported (scan_names kwarg).\n",
    "    # detect_size must be True (default) to work. Passing custom file size ranges not currently supported (file_sizes kwarg)\n",
    "    \n",
    "    # convert to absolute paths if relative path is passed\n",
    "    origpath_abs = os.path.abspath(origpath)\n",
    "    destpath_abs = os.path.abspath(destpath)\n",
    "    \n",
    "    # dict to hold unsuccessfully handled files with errors\n",
    "    problem_files = {}\n",
    "    \n",
    "    # default output folder names\n",
    "    if scan_types is None:\n",
    "        scan_types = ['anat','func','log']\n",
    "    \n",
    "    # for name mapping based on file size\n",
    "    if detect_size:    #and scan_names is None:\n",
    "        method = 'size'\n",
    "        \n",
    "    else:\n",
    "        raise ValueError('detect_size must be True. Mapping by other file attributes not currently supported.')\n",
    "    \n",
    "    # for name mapping based on passed names\n",
    "#     elif not detect_size and scan_names is None:\n",
    "#         # use default dictionary of scan types\n",
    "#         scan_names = {\n",
    "#             'mprage' : 'T1w',\n",
    "#             'bold1' : 'task-rest_run-01_bold',\n",
    "#             'bold2' : 'task-mcr_run-02_bold',\n",
    "#             'bold3' : 'task-swm_run-03_bold',\n",
    "#             'bold4' : 'task-dd_run-04_bold',\n",
    "#             'bold5' : 'task-rest_run-05_bold'\n",
    "#             }\n",
    "#         method = 'name'\n",
    "    \n",
    "#     elif detect_size and scan_names:\n",
    "#         raise ValueError('Cannot map by both scan_names and detect_size')\n",
    "        \n",
    "#     if scan_names and type(scan_names) is not dict:\n",
    "#         raise TypeError('scan_names must be a dict')\n",
    "\n",
    "    for i, (root, dirs, files) in enumerate(os.walk(origpath_abs)):\n",
    "        # create new directory structure\n",
    "        if i == 0:\n",
    "            [os.makedirs(destpath_abs+'/'+direc.split('_')[0]+'/ses-'+str(ses+1)+'/'+scantype, exist_ok=True) for direc in dirs for scantype in scan_types for ses in range(n_sessions)]\n",
    "        \n",
    "        # move and rename files\n",
    "        else:\n",
    "            file_list = [f for f in files if not f.startswith('.')]\n",
    "            if file_list:\n",
    "                if method == 'size':\n",
    "                    path_map, prob_fs = _rename_size(file_list, root, n_sessions, destpath_abs, log_changes, log_name, verbose)\n",
    "                    \n",
    "                    for old_filepath, new_filepath in path_map.items():\n",
    "                        try:\n",
    "                            shutil.copy(old_filepath, new_filepath)\n",
    "                            \n",
    "                            if verbose:\n",
    "                                print('moved ' + olf_filepath + ' to ' + new_filepath)\n",
    "                        \n",
    "                        # new_filepath is None if error occurs\n",
    "                        except TypeError:\n",
    "                            pass\n",
    "                            \n",
    "                    if prob_fs:\n",
    "                        problem_files.update(prob_fs)\n",
    "                                \n",
    "#                 elif method == 'name':\n",
    "#                     for file in file_list:\n",
    "#                         old_filepath = os.path.join(root, file)\n",
    "#                         new_filepath, problem_file = _rename_dict(file, root, n_sessions, scan_names, destpath_abs, log_changes, log_name, verbose)\n",
    "\n",
    "#                         if new_filepath is not None:\n",
    "#                             # move and rename\n",
    "#                             shutil.copy(old_filepath, new_filepath)\n",
    "\n",
    "#                             if verbose:\n",
    "#                                 print('moved ' + old_filepath + ' to ' + new_filepath)\n",
    "\n",
    "#                         else:\n",
    "#                             problem_files.append(problem_file)       \n",
    "                    \n",
    "                    \n",
    "    if problem_files:\n",
    "        print('The following files were not successfully converted: ' + problem_files)"
   ]
  },
  {
   "cell_type": "code",
   "execution_count": 5,
   "metadata": {
    "ExecuteTime": {
     "end_time": "2019-01-02T21:08:45.282272Z",
     "start_time": "2019-01-02T21:08:45.170260Z"
    },
    "code_folding": [],
    "collapsed": true
   },
   "outputs": [],
   "source": [
    "# def _rename_dict(file, root, n_sessions, scan_names, destpath_abs, log_changes, log_name, verbose):\n",
    "\n",
    "#     # viarable to track unsuccessfully renamed files\n",
    "#     problem_file = None\n",
    "\n",
    "#     old_path = os.path.join(root, file)\n",
    "#     base, ext = os.path.splitext(file)\n",
    "#     splitpath = root.split('/')\n",
    "\n",
    "#     # get subject ID\n",
    "#     sub = splitpath[-2].split('_')[0]\n",
    "\n",
    "#     # get session number\n",
    "#     ses_number = splitpath[-2].split('_')[1]\n",
    "#     if int(ses_number) <= n_sessions:\n",
    "#         session = 'ses-'+ses_number\n",
    "\n",
    "#     else:\n",
    "#         print('unrecognized session number \\'' + ses_number + '\\' for subID ' + sub)\n",
    "#         problem_file = file\n",
    "\n",
    "#     # get scan type (or log)\n",
    "#     if splitpath[-1] == 'ANATOMY':\n",
    "#         runtype = 'anat'\n",
    "\n",
    "#     elif splitpath[-1] == 'FUNCTIONAL':\n",
    "#         runtype = 'func'\n",
    "\n",
    "#     elif splitpath[-1] == 'LOG':\n",
    "#         runtype = 'LOG'\n",
    "\n",
    "#     else:\n",
    "#         print('unrecognized scan or log folder ' + splitpath[-1] + ' for subID ' + sub)\n",
    "#         problem_file = file\n",
    "\n",
    "        \n",
    "#     # format scan name (or preserve name of log file)\n",
    "#     if base in scan_names:\n",
    "#         new_name = scan_names[base]\n",
    "\n",
    "#     elif ext == '.log':\n",
    "#         new_name = base\n",
    "\n",
    "#     else:\n",
    "#         print('unrecognized scan name ' + base + ' for file ' + file)\n",
    "#         problem_file = file\n",
    "\n",
    "#     try:\n",
    "#         if runtype != 'LOG':\n",
    "#             new_path = os.path.join(destpath_abs, sub, session, runtype, sub+'_'+new_name+ext)\n",
    "#         else:\n",
    "#             new_path = os.path.join(destpath_abs, sub, session, runtype, new_name+ext)\n",
    "            \n",
    "#         if log_changes:\n",
    "#             _writelog(log_name, old_path, destpath_abs, sub, session, new_name, ext, verbose)\n",
    "\n",
    "#     except NameError:\n",
    "#         new_path = None\n",
    "\n",
    "    \n",
    "#     return new_path, problem_file"
   ]
  },
  {
   "cell_type": "code",
   "execution_count": null,
   "metadata": {
    "collapsed": true
   },
   "outputs": [],
   "source": [
    "'''Defines naming scheme for moved files'''\n",
    "\n",
    "def _rename_size(file_list, root, n_sessions, destpath_abs, log_changes, log_name, verbose):\n",
    "    \n",
    "    old_fps = [os.path.join(root,file) for file in file_list]\n",
    "    path_maps = dict.fromkeys(old_fps)\n",
    "    sizes_dict = {os.stat(file).st_size: file for file in old_fps}\n",
    "    prob_fs = []\n",
    "    splitpath = root.split('/')\n",
    "    \n",
    "    # get subject ID\n",
    "    sub = splitpath[-2].split('_')[0]\n",
    "    \n",
    "    # get session number\n",
    "    ses_number = splitpath[-2].split('_')[1]\n",
    "    if int(ses_number) <= n_sessions:\n",
    "        session = 'ses-'+ses_number\n",
    "        \n",
    "    else:\n",
    "        pf_s = file_list\n",
    "        print('unrecognized session number \\'' + ses_number + '\\' for subID ' + sub)\n",
    "        return path_maps, prob_fs\n",
    "        \n",
    "    \n",
    "    # deal with anatomical scans\n",
    "    if splitpath[-1] == 'ANATOMY':\n",
    "        runtype = 'anat'\n",
    "        # expected size for mprage files (bytes)\n",
    "        right_size = 28836192\n",
    "        # use file that matches expected size, or if none do, use one closest to expected size\n",
    "        best_scan = sizes_dict[right_size] if right_size in sizes_dict else sizes_dict[min(sizes_dict.keys(), key=lambda k: abs(k-right_size))]\n",
    "        \n",
    "        if right_size not in sizes_dict.keys():\n",
    "            print('No mprage of expected size for subject ' + sub + '. Used closest match: ' + best_scan.split('/')[-1])\n",
    "        \n",
    "        new_name = 'T1w.nii'\n",
    "        \n",
    "        \n",
    "    # deal with functional scans\n",
    "    elif splitpath[-1] == 'FUNCTIONAL':\n",
    "        runtype = 'func'\n",
    "        rests = []\n",
    "        mcrs = []\n",
    "        swms = []\n",
    "        for size, old_file in sizes_dict.items():\n",
    "            # expected size of resting state scan (+/- 2kb)\n",
    "            if size in range(110590352, 110594352):\n",
    "                rests.append(old_file)\n",
    "                \n",
    "            # expected size of mcr scan (+/- 2kb)    \n",
    "            elif size in range(77412752, 77416752):\n",
    "                mrcs.append(old_file)\n",
    "            \n",
    "            # expected size of swm scan (+/- 2kb)\n",
    "            elif size in range(82942352, 82946352):\n",
    "                swms.append(old_file)\n",
    "        \n",
    "        # map resting state scans\n",
    "        # best resting state scan 2 is the last one done\n",
    "        rest2 = sorted(rests)[-1]\n",
    "        rests.remove(rest2)\n",
    "        if len(rests) == 1:\n",
    "            rest1 = rests[0]\n",
    "        else:\n",
    "            print('unable to determine Resting State 1 for subject '+ sub + ', session ' + ses_number)            \n",
    "        \n",
    "        path_maps[rest2] = os.path.join(destpath_abs, sub, session, runtype, sub+'_task-rest_run-05.nii')\n",
    "        try:\n",
    "            path_maps[rest1] = os.path.join(destpath_abs, sub, session, runtype, sub+'_task-rest_run-01.nii')\n",
    "        except NameError:\n",
    "            pass\n",
    "        \n",
    "        # map mcr scans\n",
    "        bestmcr = mcrs[-1]\n",
    "            \n",
    "        leftovers = [old for old, new in path_maps.items() if new is None]\n",
    "        if len(leftovers) == 1:\n",
    "            path_maps[leftovers[0]] == os.path.join(destpath_abs, sub, session, runtype, sub+'_task-dd_run-04_bold.nii')\n",
    "        else:\n",
    "            \n",
    "                \n",
    "                \n",
    "    elif splitpath[-1] == 'LOG':\n",
    "        runtype = 'LOG'\n",
    "        # keep existing name\n",
    "        for file in old_fps:\n",
    "            path_maps[file] = file\n",
    "        \n",
    "        \n",
    "    else:\n",
    "        prob_fs = file_list\n",
    "        print('unrecognized scan or log folder ' + splitpath[-1] + ' for subID ' + sub)\n",
    "        return path_maps, prob_fs\n",
    "        \n",
    "        \n",
    "        \n",
    "        \n",
    "    # filter path_maps to remove keys with None values\n",
    "        \n",
    "        \n",
    "        \n",
    "        \n",
    "    return filtered_path_maps, prob_fs"
   ]
  },
  {
   "cell_type": "code",
   "execution_count": 4,
   "metadata": {
    "ExecuteTime": {
     "end_time": "2018-12-14T18:55:04.918241Z",
     "start_time": "2018-12-14T18:55:04.901491Z"
    },
    "code_folding": [
     2
    ],
    "collapsed": true
   },
   "outputs": [],
   "source": [
    "'''Writes/updates log of moving file'''\n",
    "\n",
    "def _writelog(log_name, old_path, destpath_abs, sub, session, new_name, ext, verbose):\n",
    "    \n",
    "    filename = os.path.join(destpath_abs, sub, session, 'LOG', log_name + '.log')\n",
    "    \n",
    "    if os.path.exists(filename):\n",
    "        mode = 'a'\n",
    "    \n",
    "    else:\n",
    "        mode = 'w'\n",
    "        \n",
    "    with open(filename, mode) as f:\n",
    "        f.write(\n",
    "            date.today().strftime('%Y-%m-%d') + '\\n' +\n",
    "            ' - ' + new_name+ext + ' moved from ' + old_path + '\\n'\n",
    "        )\n",
    "    \n",
    "    if verbose:\n",
    "        print('wrote to log file ' + filename)"
   ]
  },
  {
   "cell_type": "code",
   "execution_count": 45,
   "metadata": {
    "ExecuteTime": {
     "end_time": "2019-01-02T21:49:41.131000Z",
     "start_time": "2019-01-02T21:49:41.126843Z"
    }
   },
   "outputs": [
    {
     "data": {
      "text/plain": [
       "15"
      ]
     },
     "execution_count": 45,
     "metadata": {},
     "output_type": "execute_result"
    }
   ],
   "source": [
    "os.stat('/Users/paxtonfitzpatrick/Desktop/testorig/2018_1_asd/FUNCTIONAL/bold2.txt').st_size"
   ]
  },
  {
   "cell_type": "code",
   "execution_count": 14,
   "metadata": {
    "ExecuteTime": {
     "end_time": "2019-01-02T21:15:09.536695Z",
     "start_time": "2019-01-02T21:15:09.533887Z"
    },
    "code_folding": [],
    "collapsed": true
   },
   "outputs": [],
   "source": [
    "# if os.path.isfile('/Users/paxtonfitzpatrick/Desktop/egg6_mapping_tet.egg'):\n",
    "#     print('success')\n",
    "# else:\n",
    "#     raise FileNotFoundError('not there')\n",
    "#     print(3+4)"
   ]
  },
  {
   "cell_type": "code",
   "execution_count": 77,
   "metadata": {
    "ExecuteTime": {
     "end_time": "2019-01-02T22:10:04.895684Z",
     "start_time": "2019-01-02T22:10:04.862212Z"
    },
    "scrolled": true
   },
   "outputs": [
    {
     "name": "stdout",
     "output_type": "stream",
     "text": [
      "['mprage.txt']\n",
      "_______\n",
      "/Users/paxtonfitzpatrick/Desktop/testorig/2022_1_asd/ANATOMY\n",
      "['2018_1_asd.log']\n",
      "_______\n",
      "/Users/paxtonfitzpatrick/Desktop/testorig/2022_1_asd/LOG\n",
      "['bold3.txt', 'bold2.txt', 'bold1.txt']\n",
      "_______\n",
      "/Users/paxtonfitzpatrick/Desktop/testorig/2022_1_asd/FUNCTIONAL\n",
      "['mprage.txt']\n",
      "_______\n",
      "/Users/paxtonfitzpatrick/Desktop/testorig/2020_1_asd/ANATOMY\n",
      "['2018_1_asd.log']\n",
      "_______\n",
      "/Users/paxtonfitzpatrick/Desktop/testorig/2020_1_asd/LOG\n",
      "['bold3.txt', 'bold2.txt', 'bold1.txt']\n",
      "_______\n",
      "/Users/paxtonfitzpatrick/Desktop/testorig/2020_1_asd/FUNCTIONAL\n",
      "['mprage.txt']\n",
      "_______\n",
      "/Users/paxtonfitzpatrick/Desktop/testorig/2019_1_asd/ANATOMY\n",
      "['2018_1_asd.log']\n",
      "_______\n",
      "/Users/paxtonfitzpatrick/Desktop/testorig/2019_1_asd/LOG\n",
      "['bold3.txt', 'bold2.txt', 'bold1.txt']\n",
      "_______\n",
      "/Users/paxtonfitzpatrick/Desktop/testorig/2019_1_asd/FUNCTIONAL\n",
      "['mprage.txt']\n",
      "_______\n",
      "/Users/paxtonfitzpatrick/Desktop/testorig/2021_1_asd/ANATOMY\n",
      "['2018_1_asd.log']\n",
      "_______\n",
      "/Users/paxtonfitzpatrick/Desktop/testorig/2021_1_asd/LOG\n",
      "['bold3.txt', 'bold2.txt', 'bold1.txt']\n",
      "_______\n",
      "/Users/paxtonfitzpatrick/Desktop/testorig/2021_1_asd/FUNCTIONAL\n",
      "['2018_1_asd.log']\n",
      "_______\n",
      "/Users/paxtonfitzpatrick/Desktop/testorig/2023_1_asd/LOG\n",
      "['mprage.txt']\n",
      "_______\n",
      "/Users/paxtonfitzpatrick/Desktop/testorig/2018_1_asd/ANATOMY\n",
      "['2018_1_asd.log']\n",
      "_______\n",
      "/Users/paxtonfitzpatrick/Desktop/testorig/2018_1_asd/LOG\n",
      "['bold3.txt', 'bold2.txt', 'bold1.txt']\n",
      "_______\n",
      "/Users/paxtonfitzpatrick/Desktop/testorig/2018_1_asd/FUNCTIONAL\n",
      "['mprage.txt']\n",
      "_______\n",
      "/Users/paxtonfitzpatrick/Desktop/testorig/2018_2_jkl/ANATOMY\n",
      "['2018_2_jkl.log']\n",
      "_______\n",
      "/Users/paxtonfitzpatrick/Desktop/testorig/2018_2_jkl/LOG\n",
      "['bold5.txt', 'bold4.txt', 'bold1.txt']\n",
      "_______\n",
      "/Users/paxtonfitzpatrick/Desktop/testorig/2018_2_jkl/FUNCTIONAL\n",
      "['mprage.txt']\n",
      "_______\n",
      "/Users/paxtonfitzpatrick/Desktop/testorig/2021_2_jkl/ANATOMY\n",
      "['2018_2_jkl.log']\n",
      "_______\n",
      "/Users/paxtonfitzpatrick/Desktop/testorig/2021_2_jkl/LOG\n",
      "['bold5.txt', 'bold4.txt', 'bold1.txt']\n",
      "_______\n",
      "/Users/paxtonfitzpatrick/Desktop/testorig/2021_2_jkl/FUNCTIONAL\n",
      "['mprage.txt']\n",
      "_______\n",
      "/Users/paxtonfitzpatrick/Desktop/testorig/2019_2_jkl/ANATOMY\n",
      "['2018_2_jkl.log']\n",
      "_______\n",
      "/Users/paxtonfitzpatrick/Desktop/testorig/2019_2_jkl/LOG\n",
      "['bold5.txt', 'bold4.txt', 'bold1.txt']\n",
      "_______\n",
      "/Users/paxtonfitzpatrick/Desktop/testorig/2019_2_jkl/FUNCTIONAL\n",
      "['mprage.txt']\n",
      "_______\n",
      "/Users/paxtonfitzpatrick/Desktop/testorig/2020_2_jkl/ANATOMY\n",
      "['2018_2_jkl.log']\n",
      "_______\n",
      "/Users/paxtonfitzpatrick/Desktop/testorig/2020_2_jkl/LOG\n",
      "['bold5.txt', 'bold4.txt', 'bold1.txt']\n",
      "_______\n",
      "/Users/paxtonfitzpatrick/Desktop/testorig/2020_2_jkl/FUNCTIONAL\n"
     ]
    }
   ],
   "source": [
    "for i, (root, dirs, files) in enumerate(os.walk('/Users/paxtonfitzpatrick/Desktop/testorig/')):\n",
    "    file_list = [f for f in files if not f.startswith('.')]\n",
    "    if file_list:\n",
    "        print(file_list)\n",
    "        print('_______')\n",
    "        print(root)\n",
    "\n",
    "    #     print(dirs)\n",
    "    #     print('_______')\n",
    "#         print(files)\n",
    "#         print('_______')"
   ]
  },
  {
   "cell_type": "code",
   "execution_count": 67,
   "metadata": {
    "ExecuteTime": {
     "end_time": "2019-01-03T21:09:01.031110Z",
     "start_time": "2019-01-03T21:09:01.013968Z"
    },
    "scrolled": true
   },
   "outputs": [
    {
     "ename": "TypeError",
     "evalue": "stat: path should be string, bytes, os.PathLike or integer, not NoneType",
     "output_type": "error",
     "traceback": [
      "\u001b[0;31m---------------------------------------------------------------------------\u001b[0m",
      "\u001b[0;31mTypeError\u001b[0m                                 Traceback (most recent call last)",
      "\u001b[0;32m<ipython-input-67-4cb7283477b3>\u001b[0m in \u001b[0;36m<module>\u001b[0;34m()\u001b[0m\n\u001b[0;32m----> 1\u001b[0;31m \u001b[0mshutil\u001b[0m\u001b[0;34m.\u001b[0m\u001b[0mcopy\u001b[0m\u001b[0;34m(\u001b[0m\u001b[0;34m'/Users/paxtonfitzpatrick/Desktop/fuckitpy/'\u001b[0m\u001b[0;34m,\u001b[0m \u001b[0;32mNone\u001b[0m\u001b[0;34m)\u001b[0m\u001b[0;34m\u001b[0m\u001b[0m\n\u001b[0m",
      "\u001b[0;32m~/anaconda/envs/py36/lib/python3.6/shutil.py\u001b[0m in \u001b[0;36mcopy\u001b[0;34m(src, dst, follow_symlinks)\u001b[0m\n\u001b[1;32m    237\u001b[0m \u001b[0;34m\u001b[0m\u001b[0m\n\u001b[1;32m    238\u001b[0m     \"\"\"\n\u001b[0;32m--> 239\u001b[0;31m     \u001b[0;32mif\u001b[0m \u001b[0mos\u001b[0m\u001b[0;34m.\u001b[0m\u001b[0mpath\u001b[0m\u001b[0;34m.\u001b[0m\u001b[0misdir\u001b[0m\u001b[0;34m(\u001b[0m\u001b[0mdst\u001b[0m\u001b[0;34m)\u001b[0m\u001b[0;34m:\u001b[0m\u001b[0;34m\u001b[0m\u001b[0m\n\u001b[0m\u001b[1;32m    240\u001b[0m         \u001b[0mdst\u001b[0m \u001b[0;34m=\u001b[0m \u001b[0mos\u001b[0m\u001b[0;34m.\u001b[0m\u001b[0mpath\u001b[0m\u001b[0;34m.\u001b[0m\u001b[0mjoin\u001b[0m\u001b[0;34m(\u001b[0m\u001b[0mdst\u001b[0m\u001b[0;34m,\u001b[0m \u001b[0mos\u001b[0m\u001b[0;34m.\u001b[0m\u001b[0mpath\u001b[0m\u001b[0;34m.\u001b[0m\u001b[0mbasename\u001b[0m\u001b[0;34m(\u001b[0m\u001b[0msrc\u001b[0m\u001b[0;34m)\u001b[0m\u001b[0;34m)\u001b[0m\u001b[0;34m\u001b[0m\u001b[0m\n\u001b[1;32m    241\u001b[0m     \u001b[0mcopyfile\u001b[0m\u001b[0;34m(\u001b[0m\u001b[0msrc\u001b[0m\u001b[0;34m,\u001b[0m \u001b[0mdst\u001b[0m\u001b[0;34m,\u001b[0m \u001b[0mfollow_symlinks\u001b[0m\u001b[0;34m=\u001b[0m\u001b[0mfollow_symlinks\u001b[0m\u001b[0;34m)\u001b[0m\u001b[0;34m\u001b[0m\u001b[0m\n",
      "\u001b[0;32m~/anaconda/envs/py36/lib/python3.6/genericpath.py\u001b[0m in \u001b[0;36misdir\u001b[0;34m(s)\u001b[0m\n\u001b[1;32m     40\u001b[0m     \u001b[0;34m\"\"\"Return true if the pathname refers to an existing directory.\"\"\"\u001b[0m\u001b[0;34m\u001b[0m\u001b[0m\n\u001b[1;32m     41\u001b[0m     \u001b[0;32mtry\u001b[0m\u001b[0;34m:\u001b[0m\u001b[0;34m\u001b[0m\u001b[0m\n\u001b[0;32m---> 42\u001b[0;31m         \u001b[0mst\u001b[0m \u001b[0;34m=\u001b[0m \u001b[0mos\u001b[0m\u001b[0;34m.\u001b[0m\u001b[0mstat\u001b[0m\u001b[0;34m(\u001b[0m\u001b[0ms\u001b[0m\u001b[0;34m)\u001b[0m\u001b[0;34m\u001b[0m\u001b[0m\n\u001b[0m\u001b[1;32m     43\u001b[0m     \u001b[0;32mexcept\u001b[0m \u001b[0mOSError\u001b[0m\u001b[0;34m:\u001b[0m\u001b[0;34m\u001b[0m\u001b[0m\n\u001b[1;32m     44\u001b[0m         \u001b[0;32mreturn\u001b[0m \u001b[0;32mFalse\u001b[0m\u001b[0;34m\u001b[0m\u001b[0m\n",
      "\u001b[0;31mTypeError\u001b[0m: stat: path should be string, bytes, os.PathLike or integer, not NoneType"
     ]
    }
   ],
   "source": [
    "shutil.copy('/Users/paxtonfitzpatrick/Desktop/fuckitpy/', None)"
   ]
  },
  {
   "cell_type": "code",
   "execution_count": 91,
   "metadata": {
    "ExecuteTime": {
     "end_time": "2019-01-03T21:29:57.956737Z",
     "start_time": "2019-01-03T21:29:57.950388Z"
    },
    "collapsed": true
   },
   "outputs": [],
   "source": [
    "z = 12\n",
    "\n",
    "def tryit(a):\n",
    "    print('1')\n",
    "    print('2')\n",
    "    if a in range(10):\n",
    "        q = a+4\n",
    "    else:\n",
    "        return\n",
    "    print(q)\n",
    "    return('return value!')"
   ]
  },
  {
   "cell_type": "code",
   "execution_count": 99,
   "metadata": {
    "ExecuteTime": {
     "end_time": "2019-01-03T21:46:08.044735Z",
     "start_time": "2019-01-03T21:46:08.039474Z"
    },
    "collapsed": true
   },
   "outputs": [],
   "source": [
    "testlist = [i for i in range(1,20)]\n",
    "testdict = dict.fromkeys(testlist)\n",
    "for i in testdict:\n",
    "    if i%2==0:\n",
    "        testdict[i] = 'even'"
   ]
  },
  {
   "cell_type": "code",
   "execution_count": 6,
   "metadata": {
    "ExecuteTime": {
     "end_time": "2019-01-06T20:06:15.827726Z",
     "start_time": "2019-01-06T20:06:15.824795Z"
    },
    "collapsed": true
   },
   "outputs": [],
   "source": [
    "testlist = [i for i in range(1,20)]"
   ]
  },
  {
   "cell_type": "code",
   "execution_count": 121,
   "metadata": {
    "ExecuteTime": {
     "end_time": "2019-01-03T22:43:08.530137Z",
     "start_time": "2019-01-03T22:43:08.526461Z"
    }
   },
   "outputs": [
    {
     "data": {
      "text/plain": [
       "[1, 3, 5, 7, 9, 11, 13, 15, 17, 19]"
      ]
     },
     "execution_count": 121,
     "metadata": {},
     "output_type": "execute_result"
    }
   ],
   "source": [
    "[key for key, value in testdict.items() if value is None]"
   ]
  },
  {
   "cell_type": "code",
   "execution_count": 7,
   "metadata": {
    "ExecuteTime": {
     "end_time": "2019-01-06T20:06:17.545133Z",
     "start_time": "2019-01-06T20:06:17.542485Z"
    },
    "collapsed": true
   },
   "outputs": [],
   "source": [
    "path_maps = dict.fromkeys(testlist)"
   ]
  },
  {
   "cell_type": "code",
   "execution_count": 18,
   "metadata": {
    "ExecuteTime": {
     "end_time": "2019-01-06T20:13:49.171654Z",
     "start_time": "2019-01-06T20:13:49.168971Z"
    },
    "collapsed": true
   },
   "outputs": [],
   "source": [
    "testscanlist = ['bold3', 'bold7', 'bold5', 'bold1']"
   ]
  },
  {
   "cell_type": "code",
   "execution_count": 16,
   "metadata": {
    "ExecuteTime": {
     "end_time": "2019-01-06T20:13:37.044386Z",
     "start_time": "2019-01-06T20:13:37.040981Z"
    },
    "collapsed": true
   },
   "outputs": [],
   "source": [
    "testscanlist.remove(sorted(testscanlist)[-1])"
   ]
  },
  {
   "cell_type": "code",
   "execution_count": 20,
   "metadata": {
    "ExecuteTime": {
     "end_time": "2019-01-06T20:14:34.555219Z",
     "start_time": "2019-01-06T20:14:34.552424Z"
    },
    "collapsed": true
   },
   "outputs": [],
   "source": [
    "rightone = sorted(testscanlist)[-1]"
   ]
  },
  {
   "cell_type": "code",
   "execution_count": 22,
   "metadata": {
    "ExecuteTime": {
     "end_time": "2019-01-06T20:14:45.118706Z",
     "start_time": "2019-01-06T20:14:45.116016Z"
    },
    "collapsed": true
   },
   "outputs": [],
   "source": [
    "testscanlist.remove(rightone)"
   ]
  },
  {
   "cell_type": "code",
   "execution_count": 24,
   "metadata": {
    "ExecuteTime": {
     "end_time": "2019-01-06T20:18:20.607150Z",
     "start_time": "2019-01-06T20:18:20.603223Z"
    }
   },
   "outputs": [
    {
     "data": {
      "text/plain": [
       "'bold7'"
      ]
     },
     "execution_count": 24,
     "metadata": {},
     "output_type": "execute_result"
    }
   ],
   "source": [
    "rightone"
   ]
  },
  {
   "cell_type": "code",
   "execution_count": 25,
   "metadata": {
    "ExecuteTime": {
     "end_time": "2019-01-06T21:20:25.737863Z",
     "start_time": "2019-01-06T21:20:25.721561Z"
    }
   },
   "outputs": [
    {
     "ename": "NameError",
     "evalue": "name 'a' is not defined",
     "output_type": "error",
     "traceback": [
      "\u001b[0;31m---------------------------------------------------------------------------\u001b[0m",
      "\u001b[0;31mNameError\u001b[0m                                 Traceback (most recent call last)",
      "\u001b[0;32m<ipython-input-25-c5a4f3535135>\u001b[0m in \u001b[0;36m<module>\u001b[0;34m()\u001b[0m\n\u001b[0;32m----> 1\u001b[0;31m \u001b[0mprint\u001b[0m\u001b[0;34m(\u001b[0m\u001b[0ma\u001b[0m\u001b[0;34m)\u001b[0m\u001b[0;34m\u001b[0m\u001b[0m\n\u001b[0m",
      "\u001b[0;31mNameError\u001b[0m: name 'a' is not defined"
     ]
    }
   ],
   "source": [
    "print(a)"
   ]
  },
  {
   "cell_type": "code",
   "execution_count": null,
   "metadata": {
    "collapsed": true
   },
   "outputs": [],
   "source": []
  }
 ],
 "metadata": {
  "kernelspec": {
   "display_name": "Python 3",
   "language": "python",
   "name": "python3"
  },
  "language_info": {
   "codemirror_mode": {
    "name": "ipython",
    "version": 3
   },
   "file_extension": ".py",
   "mimetype": "text/x-python",
   "name": "python",
   "nbconvert_exporter": "python",
   "pygments_lexer": "ipython3",
   "version": "3.6.2"
  }
 },
 "nbformat": 4,
 "nbformat_minor": 2
}
