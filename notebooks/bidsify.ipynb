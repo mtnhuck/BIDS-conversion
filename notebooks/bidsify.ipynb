{
 "cells": [
  {
   "cell_type": "code",
   "execution_count": 48,
   "metadata": {
    "ExecuteTime": {
     "end_time": "2019-01-09T23:12:06.942376Z",
     "start_time": "2019-01-09T23:12:06.939074Z"
    },
    "collapsed": true
   },
   "outputs": [],
   "source": [
    "# import modules\n",
    "import os\n",
    "import shutil\n",
    "from datetime import date"
   ]
  },
  {
   "cell_type": "code",
   "execution_count": 1,
   "metadata": {
    "ExecuteTime": {
     "end_time": "2019-01-06T19:56:04.354785Z",
     "start_time": "2019-01-06T19:56:04.197425Z"
    },
    "code_folding": []
   },
   "outputs": [
    {
     "ename": "SyntaxError",
     "evalue": "invalid syntax (<ipython-input-1-18672f7d9878>, line 58)",
     "output_type": "error",
     "traceback": [
      "\u001b[0;36m  File \u001b[0;32m\"<ipython-input-1-18672f7d9878>\"\u001b[0;36m, line \u001b[0;32m58\u001b[0m\n\u001b[0;31m    for old_filepath, new_filepath in path_map.items()\u001b[0m\n\u001b[0m                                                      ^\u001b[0m\n\u001b[0;31mSyntaxError\u001b[0m\u001b[0;31m:\u001b[0m invalid syntax\n"
     ]
    }
   ],
   "source": [
    "'''Copying and renaming files'''\n",
    "\n",
    "def bidsify(origpath, destpath, n_sessions=2, scan_types=None, detect_size=True, log_changes=True, log_name='CHANGES', verbose=False):\n",
    "    \n",
    "    \n",
    "    # NOTE: mapping old names to new names by passing a dict is not currently supported (scan_names kwarg).\n",
    "    # detect_size must be True (default) to work. Passing custom file size ranges not currently supported (file_sizes kwarg)\n",
    "    \n",
    "    # convert to absolute paths if relative path is passed\n",
    "    origpath_abs = os.path.abspath(origpath)\n",
    "    destpath_abs = os.path.abspath(destpath)\n",
    "    \n",
    "    # dict to hold unsuccessfully handled files with errors\n",
    "    problem_files = {}\n",
    "    \n",
    "    # default output folder names\n",
    "    if scan_types is None:\n",
    "        scan_types = ['anat','func','log']\n",
    "    \n",
    "    # for name mapping based on file size\n",
    "    if detect_size:    #and scan_names is None:\n",
    "        method = 'size'\n",
    "        \n",
    "    else:\n",
    "        raise ValueError('detect_size must be True. Mapping by other file attributes not currently supported.')\n",
    "    \n",
    "    # for name mapping based on passed names\n",
    "#     elif not detect_size and scan_names is None:\n",
    "#         # use default dictionary of scan types\n",
    "#         scan_names = {\n",
    "#             'mprage' : 'T1w',\n",
    "#             'bold1' : 'task-rest_run-01_bold',\n",
    "#             'bold2' : 'task-mcr_run-02_bold',\n",
    "#             'bold3' : 'task-swm_run-03_bold',\n",
    "#             'bold4' : 'task-dd_run-04_bold',\n",
    "#             'bold5' : 'task-rest_run-05_bold'\n",
    "#             }\n",
    "#         method = 'name'\n",
    "    \n",
    "#     elif detect_size and scan_names:\n",
    "#         raise ValueError('Cannot map by both scan_names and detect_size')\n",
    "        \n",
    "#     if scan_names and type(scan_names) is not dict:\n",
    "#         raise TypeError('scan_names must be a dict')\n",
    "\n",
    "    for i, (root, dirs, files) in enumerate(os.walk(origpath_abs, topdown=True)):\n",
    "        # do not recurse into the 'DONTUSE' folder\n",
    "        dirs[:] = [d for d in dirs if not d.startswith('DONTUSE')]\n",
    "        \n",
    "        # create new directory structure\n",
    "        if i == 0:\n",
    "            [os.makedirs(destpath_abs+'/'+direc.split('_')[0]+'/ses-'+str(ses+1)+'/'+scantype, exist_ok=True) for direc in dirs for scantype in scan_types for ses in range(n_sessions)]\n",
    "        \n",
    "        # move and rename files\n",
    "        else:\n",
    "            file_list = [f for f in files if not f.startswith('.')]\n",
    "            if file_list:\n",
    "                if method == 'size':\n",
    "                    path_map, prob_fs = _rename_size(file_list, root, n_sessions, destpath_abs, log_changes, log_name, verbose)\n",
    "                    \n",
    "                    for old_filepath, new_filepath in path_map.items():\n",
    "                        shutil.copy(old_filepath, new_filepath)\n",
    "\n",
    "                        if verbose:\n",
    "                            print('moved ' + old_filepath + ' to ' + new_filepath)\n",
    "                            \n",
    "                    if prob_fs:\n",
    "                        problem_files.update({subID: prob_fs})\n",
    "                                \n",
    "#                 elif method == 'name':\n",
    "#                     for file in file_list:\n",
    "#                         old_filepath = os.path.join(root, file)\n",
    "#                         new_filepath, problem_file = _rename_dict(file, root, n_sessions, scan_names, destpath_abs, log_changes, log_name, verbose)\n",
    "\n",
    "#                         if new_filepath is not None:\n",
    "#                             # move and rename\n",
    "#                             shutil.copy(old_filepath, new_filepath)\n",
    "\n",
    "#                             if verbose:\n",
    "#                                 print('moved ' + old_filepath + ' to ' + new_filepath)\n",
    "\n",
    "#                         else:\n",
    "#                             problem_files.append(problem_file)       \n",
    "                    \n",
    "                    \n",
    "    if problem_files:\n",
    "        print('The following files were not successfully converted: ' + problem_files)"
   ]
  },
  {
   "cell_type": "code",
   "execution_count": 5,
   "metadata": {
    "ExecuteTime": {
     "end_time": "2019-01-02T21:08:45.282272Z",
     "start_time": "2019-01-02T21:08:45.170260Z"
    },
    "code_folding": [
     0
    ],
    "collapsed": true
   },
   "outputs": [],
   "source": [
    "# def _rename_dict(file, root, n_sessions, scan_names, destpath_abs, log_changes, log_name, verbose):\n",
    "\n",
    "#     # viarable to track unsuccessfully renamed files\n",
    "#     problem_file = None\n",
    "\n",
    "#     old_path = os.path.join(root, file)\n",
    "#     base, ext = os.path.splitext(file)\n",
    "#     splitpath = root.split('/')\n",
    "\n",
    "#     # get subject ID\n",
    "#     sub = splitpath[-2].split('_')[0]\n",
    "\n",
    "#     # get session number\n",
    "#     ses_number = splitpath[-2].split('_')[1]\n",
    "#     if int(ses_number) <= n_sessions:\n",
    "#         session = 'ses-'+ses_number\n",
    "\n",
    "#     else:\n",
    "#         print('unrecognized session number \\'' + ses_number + '\\' for subID ' + sub)\n",
    "#         problem_file = file\n",
    "\n",
    "#     # get scan type (or log)\n",
    "#     if splitpath[-1] == 'ANATOMY':\n",
    "#         runtype = 'anat'\n",
    "\n",
    "#     elif splitpath[-1] == 'FUNCTIONAL':\n",
    "#         runtype = 'func'\n",
    "\n",
    "#     elif splitpath[-1] == 'LOG':\n",
    "#         runtype = 'LOG'\n",
    "\n",
    "#     else:\n",
    "#         print('unrecognized scan or log folder ' + splitpath[-1] + ' for subID ' + sub)\n",
    "#         problem_file = file\n",
    "\n",
    "        \n",
    "#     # format scan name (or preserve name of log file)\n",
    "#     if base in scan_names:\n",
    "#         new_name = scan_names[base]\n",
    "\n",
    "#     elif ext == '.log':\n",
    "#         new_name = base\n",
    "\n",
    "#     else:\n",
    "#         print('unrecognized scan name ' + base + ' for file ' + file)\n",
    "#         problem_file = file\n",
    "\n",
    "#     try:\n",
    "#         if runtype != 'LOG':\n",
    "#             new_path = os.path.join(destpath_abs, sub, session, runtype, sub+'_'+new_name+ext)\n",
    "#         else:\n",
    "#             new_path = os.path.join(destpath_abs, sub, session, runtype, new_name+ext)\n",
    "            \n",
    "#         if log_changes:\n",
    "#             _writelog(log_name, old_path, destpath_abs, sub, session, new_name, ext, verbose)\n",
    "\n",
    "#     except NameError:\n",
    "#         new_path = None\n",
    "\n",
    "    \n",
    "#     return new_path, problem_file"
   ]
  },
  {
   "cell_type": "code",
   "execution_count": null,
   "metadata": {
    "code_folding": [],
    "collapsed": true
   },
   "outputs": [],
   "source": [
    "'''Defines naming scheme for files based on size'''\n",
    "\n",
    "def _rename_size(file_list, root, n_sessions, destpath_abs, log_changes, log_name, verbose):\n",
    "    \n",
    "    old_fps = [os.path.join(root,file) for file in file_list]\n",
    "    path_maps = dict.fromkeys(old_fps)\n",
    "    sizes_dict = {os.stat(file).st_size: file for file in old_fps}\n",
    "    prob_fs = {}\n",
    "    splitpath = root.split('/')\n",
    "    \n",
    "    # get subject ID\n",
    "    sub = splitpath[-2].split('_')[0]\n",
    "    \n",
    "    # get session number\n",
    "    ses_number = splitpath[-2].split('_')[1].lstrip('0')\n",
    "    if int(ses_number) <= n_sessions:\n",
    "        session = 'ses-'+ses_number\n",
    "        \n",
    "    else:\n",
    "        prob_fs['']= 'Unrecognized session number: ' + ses_number\n",
    "        return path_maps, prob_fs\n",
    "        \n",
    "    \n",
    "    # deal with anatomical scans\n",
    "    if splitpath[-1] == 'ANATOMY':\n",
    "        # expected size for mprage files (bytes)\n",
    "        right_size = 28836192\n",
    "        # use file that matches expected size, or if none do, use one closest to expected size\n",
    "        best_scan = sizes_dict[right_size] if right_size in sizes_dict else sizes_dict[min(sizes_dict.keys(), key=lambda k: abs(k-right_size))]\n",
    "        \n",
    "        if right_size not in sizes_dict.keys():\n",
    "            prob_fs[best_scan.split('/')[-1]] = 'No mprage of expected size. Used closest match: ' + best_scan.split('/')[-1])\n",
    "        \n",
    "        new_name = 'T1w.nii'\n",
    "        path_maps[best_scan] = os.path.join(destpath_abs, sub, session, 'anat', sub+'_T1w.nii')\n",
    "        \n",
    "        \n",
    "    # deal with functional scans\n",
    "    elif splitpath[-1] == 'FUNCTIONAL':\n",
    "        rests = []\n",
    "        mcrs = []\n",
    "        swms = []\n",
    "        leftovers = []\n",
    "        for size, old_file in sizes_dict.items():\n",
    "            # expected size of resting state scan (+/- 2kb)\n",
    "            if size in range(110590352, 110594352):\n",
    "                rests.append(old_file)\n",
    "                \n",
    "            # expected size of mcr scan (+/- 2kb)    \n",
    "            elif size in range(77412752, 77416752):\n",
    "                mrcs.append(old_file)\n",
    "            \n",
    "            # expected size of swm scan (+/- 2kb)\n",
    "            elif size in range(82942352, 82946352):\n",
    "                swms.append(old_file) \n",
    "            else:\n",
    "                leftovers.append(old_file)\n",
    "        \n",
    "        # map resting state scans\n",
    "        if not rests:\n",
    "            prob_fs['Resting state'] = 'No scan files matching expected size for Resting State.'\n",
    "            \n",
    "        elif len(rests) == 1:\n",
    "            prob_fs['Resting state'] = 'Unable to determine which Resting State scan for file: ' + rests[0]\n",
    "            \n",
    "        elif len(rests) == 2:\n",
    "            rest1, rest2 = sorted(rests)[0], sorted(rests)[1]\n",
    "            path_maps[rest1] = os.path.join(destpath_abs, sub, session, 'func', sub+'_task-rest_run-01_bold.nii')\n",
    "            path_maps[rest2] = os.path.join(destpath_abs, sub, session, 'func', sub+'_task-rest_run-05_bold.nii')\n",
    "        else:\n",
    "            prob_fs['Resting state'] = 'Unable to identify Resting State 1 vs 2 from choices: ' + rests[0]\n",
    "                    \n",
    "        # map mcr scans\n",
    "        if mcrs:\n",
    "            path_maps[mcrs[-1]] = os.path.join(destpath_abs, sub, session, 'func', sub+'_task-mcr_run-02_bold.nii')\n",
    "        else:\n",
    "            prob_fs['MCR'] = 'No scan files matching expected size for MCR'\n",
    "            \n",
    "        # map swm scans\n",
    "        if swms:\n",
    "            path_maps[swms[-1]] = os.path.join(destpath_abs, sub, session, 'func', sub+'_task-swm_run-03_bold.nii')\n",
    "        else:\n",
    "            prob_fs['SWM'] = 'No scan files matching expected size for SWM'\n",
    " \n",
    "         \n",
    "        if len(leftovers) == 1:\n",
    "            path_maps[leftovers[0]] = os.path.join(destpath_abs, sub, session, 'func', sub+'_task-dd_run-04_bold.nii')\n",
    "        else:\n",
    "            prob_fs['DD'] = 'Unable to identify DD scan from choices: ' + str(leftovers)\n",
    "            \n",
    "    # deal with log files\n",
    "    elif splitpath[-1] == 'LOG':\n",
    "        runtype = 'LOG'\n",
    "        # keep existing name\n",
    "        for file in old_fps:\n",
    "            path_maps[file] = os.path.join(destpath_abs, sub, session, 'log', sub+'_task-dd_run-04_bold.nii')\n",
    "        \n",
    "    else:\n",
    "        prob_fs[''] = 'unrecognized scan or log folder: ' + splitpath[-1]\n",
    "        return path_maps, prob_fs\n",
    "    \n",
    "    # create & write log file in destination dir with record of move\n",
    "    if log_changes:\n",
    "        _write_log(log_name, path_maps, destpath_abs, sub, session, verbose)\n",
    "        \n",
    "    # note any scan files not mapped...\n",
    "    unmapped = [old_file for old_file, new_file in path_maps.items() if not new_file]\n",
    "    if unmapped:\n",
    "        prob_fs['Unmapped files'] = 'The following files were not moved: ' + str(unmapped)\n",
    "        \n",
    "    # ...and filter them from the dictionary\n",
    "    filtered_path_maps = {k: v for k, v in path_maps.items() if v is not None}\n",
    "        \n",
    "    return filtered_path_maps, prob_fs"
   ]
  },
  {
   "cell_type": "code",
   "execution_count": 4,
   "metadata": {
    "ExecuteTime": {
     "end_time": "2018-12-14T18:55:04.918241Z",
     "start_time": "2018-12-14T18:55:04.901491Z"
    },
    "code_folding": [
     2
    ],
    "collapsed": true
   },
   "outputs": [],
   "source": [
    "'''Writes/updates log of moving file'''\n",
    "\n",
    "def _write_log(log_name, path_maps, destpath_abs, sub, session, verbose):\n",
    "    \n",
    "    filename = os.path.join(destpath_abs, sub, session, 'log', log_name + '.log')\n",
    "    \n",
    "    if os.path.exists(filename):\n",
    "        mode = 'a'\n",
    "    else:\n",
    "        mode = 'w'\n",
    "        \n",
    "    with open(filename, mode) as f:\n",
    "        f.write(date.today().strftime('%Y-%m-%d') + '\\n')\n",
    "        for old_path, new_path in path_maps.items():\n",
    "            f.write('- ' + new_path + ' moved from ' + old_path + '\\n')\n",
    "    \n",
    "    if verbose:\n",
    "        print('wrote to log file ' + filename)"
   ]
  },
  {
   "cell_type": "code",
   "execution_count": 169,
   "metadata": {
    "ExecuteTime": {
     "end_time": "2019-01-10T00:52:16.359244Z",
     "start_time": "2019-01-10T00:52:16.343364Z"
    },
    "code_folding": [],
    "scrolled": true
   },
   "outputs": [
    {
     "name": "stdout",
     "output_type": "stream",
     "text": [
      "/Users/paxtonfitzpatrick/Desktop/testorig/2022_1_asd/ANATOMY\t\ta\n",
      "/Users/paxtonfitzpatrick/Desktop/testorig/2022_1_asd/LOG\t\ta\n",
      "/Users/paxtonfitzpatrick/Desktop/testorig/2022_1_asd/FUNCTIONAL\t\ta\n",
      "/Users/paxtonfitzpatrick/Desktop/testorig/2020_1_asd/ANATOMY\t\ta\n",
      "/Users/paxtonfitzpatrick/Desktop/testorig/2020_1_asd/LOG\t\ta\n",
      "/Users/paxtonfitzpatrick/Desktop/testorig/2020_1_asd/FUNCTIONAL\t\ta\n",
      "/Users/paxtonfitzpatrick/Desktop/testorig/2019_1_asd/ANATOMY\t\ta\n",
      "/Users/paxtonfitzpatrick/Desktop/testorig/2019_1_asd/LOG\t\ta\n",
      "/Users/paxtonfitzpatrick/Desktop/testorig/2019_1_asd/FUNCTIONAL\t\ta\n",
      "/Users/paxtonfitzpatrick/Desktop/testorig/2021_1_asd/ANATOMY\t\ta\n",
      "/Users/paxtonfitzpatrick/Desktop/testorig/2021_1_asd/LOG\t\ta\n",
      "/Users/paxtonfitzpatrick/Desktop/testorig/2021_1_asd/FUNCTIONAL\t\ta\n",
      "/Users/paxtonfitzpatrick/Desktop/testorig/2023_1_asd/LOG\t\ta\n",
      "/Users/paxtonfitzpatrick/Desktop/testorig/2018_1_asd/ANATOMY\t\ta\n",
      "/Users/paxtonfitzpatrick/Desktop/testorig/2018_1_asd/LOG\t\ta\n",
      "/Users/paxtonfitzpatrick/Desktop/testorig/2018_1_asd/FUNCTIONAL\t\ta\n",
      "/Users/paxtonfitzpatrick/Desktop/testorig/2018_2_jkl/ANATOMY\t\ta\n",
      "/Users/paxtonfitzpatrick/Desktop/testorig/2018_2_jkl/LOG\t\ta\n",
      "/Users/paxtonfitzpatrick/Desktop/testorig/2018_2_jkl/FUNCTIONAL\t\ta\n",
      "/Users/paxtonfitzpatrick/Desktop/testorig/2021_2_jkl/ANATOMY\t\ta\n",
      "/Users/paxtonfitzpatrick/Desktop/testorig/2021_2_jkl/LOG\t\ta\n",
      "/Users/paxtonfitzpatrick/Desktop/testorig/2021_2_jkl/FUNCTIONAL\t\ta\n",
      "/Users/paxtonfitzpatrick/Desktop/testorig/2019_2_jkl/ANATOMY\t\ta\n",
      "/Users/paxtonfitzpatrick/Desktop/testorig/2019_2_jkl/LOG\t\ta\n",
      "/Users/paxtonfitzpatrick/Desktop/testorig/2019_2_jkl/FUNCTIONAL\t\ta\n",
      "/Users/paxtonfitzpatrick/Desktop/testorig/2020_2_jkl/ANATOMY\t\ta\n",
      "/Users/paxtonfitzpatrick/Desktop/testorig/2020_2_jkl/LOG\t\ta\n",
      "/Users/paxtonfitzpatrick/Desktop/testorig/2020_2_jkl/FUNCTIONAL\t\ta\n"
     ]
    }
   ],
   "source": [
    "for i, (root, dirs, files) in enumerate(os.walk('/Users/paxtonfitzpatrick/Desktop/testorig/', topdown=True)):\n",
    "    dirs[:] = [d for d in dirs if not d.startswith('DONTUSE')]\n",
    "    file_list = [f for f in files if not f.startswith('.')]\n",
    "    if file_list:\n",
    "        print(root + '\\t\\t' + 'a')"
   ]
  },
  {
   "cell_type": "code",
   "execution_count": 108,
   "metadata": {
    "ExecuteTime": {
     "end_time": "2019-01-10T00:16:36.402360Z",
     "start_time": "2019-01-10T00:16:36.399150Z"
    }
   },
   "outputs": [],
   "source": [
    "testdict = {'test'+str(i/2) : str(1-i) for i in range(8)}"
   ]
  },
  {
   "cell_type": "code",
   "execution_count": 106,
   "metadata": {
    "ExecuteTime": {
     "end_time": "2019-01-10T00:16:22.181735Z",
     "start_time": "2019-01-10T00:16:22.179062Z"
    }
   },
   "outputs": [],
   "source": [
    "basedict = {}"
   ]
  },
  {
   "cell_type": "code",
   "execution_count": 109,
   "metadata": {
    "ExecuteTime": {
     "end_time": "2019-01-10T00:16:37.921206Z",
     "start_time": "2019-01-10T00:16:37.918229Z"
    },
    "collapsed": true
   },
   "outputs": [],
   "source": [
    "basedict.update({'subID2' : testdict})"
   ]
  },
  {
   "cell_type": "code",
   "execution_count": 110,
   "metadata": {
    "ExecuteTime": {
     "end_time": "2019-01-10T00:16:38.348986Z",
     "start_time": "2019-01-10T00:16:38.344319Z"
    }
   },
   "outputs": [
    {
     "data": {
      "text/plain": [
       "{'subID': {'test0': '0',\n",
       "  'test1': '1',\n",
       "  'test2': '2',\n",
       "  'test3': '3',\n",
       "  'test4': '4',\n",
       "  'test5': '5',\n",
       "  'test6': '6',\n",
       "  'test7': '7'},\n",
       " 'subID2': {'test0.0': '1',\n",
       "  'test0.5': '0',\n",
       "  'test1.0': '-1',\n",
       "  'test1.5': '-2',\n",
       "  'test2.0': '-3',\n",
       "  'test2.5': '-4',\n",
       "  'test3.0': '-5',\n",
       "  'test3.5': '-6'}}"
      ]
     },
     "execution_count": 110,
     "metadata": {},
     "output_type": "execute_result"
    }
   ],
   "source": [
    "basedict"
   ]
  },
  {
   "cell_type": "code",
   "execution_count": 115,
   "metadata": {
    "ExecuteTime": {
     "end_time": "2019-01-10T00:20:17.199577Z",
     "start_time": "2019-01-10T00:20:17.195599Z"
    }
   },
   "outputs": [
    {
     "data": {
      "text/plain": [
       "'1'"
      ]
     },
     "execution_count": 115,
     "metadata": {},
     "output_type": "execute_result"
    }
   ],
   "source": [
    "'2011_1_1111'.split('_')[1].lstrip('0')"
   ]
  },
  {
   "cell_type": "code",
   "execution_count": 121,
   "metadata": {
    "ExecuteTime": {
     "end_time": "2019-01-10T00:27:35.098227Z",
     "start_time": "2019-01-10T00:27:35.094147Z"
    }
   },
   "outputs": [
    {
     "data": {
      "text/plain": [
       "False"
      ]
     },
     "execution_count": 121,
     "metadata": {},
     "output_type": "execute_result"
    }
   ],
   "source": [
    "'1thingy'[0].isalpha()"
   ]
  },
  {
   "cell_type": "code",
   "execution_count": null,
   "metadata": {
    "collapsed": true
   },
   "outputs": [],
   "source": []
  }
 ],
 "metadata": {
  "kernelspec": {
   "display_name": "Python 3",
   "language": "python",
   "name": "python3"
  },
  "language_info": {
   "codemirror_mode": {
    "name": "ipython",
    "version": 3
   },
   "file_extension": ".py",
   "mimetype": "text/x-python",
   "name": "python",
   "nbconvert_exporter": "python",
   "pygments_lexer": "ipython3",
   "version": "3.6.2"
  }
 },
 "nbformat": 4,
 "nbformat_minor": 2
}
