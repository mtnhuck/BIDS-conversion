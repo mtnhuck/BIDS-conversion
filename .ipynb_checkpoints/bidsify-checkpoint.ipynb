{
 "cells": [
  {
   "cell_type": "code",
   "execution_count": 15,
   "metadata": {
    "ExecuteTime": {
     "end_time": "2018-12-12T16:06:33.832728Z",
     "start_time": "2018-12-12T16:06:33.252873Z"
    },
    "collapsed": true
   },
   "outputs": [],
   "source": [
    "# import modules\n",
    "import shutil\n",
    "import os\n",
    "import pandas as pd"
   ]
  },
  {
   "cell_type": "code",
   "execution_count": 40,
   "metadata": {
    "ExecuteTime": {
     "end_time": "2018-12-11T20:02:59.173005Z",
     "start_time": "2018-12-11T20:02:59.161483Z"
    },
    "code_folding": [
     0
    ],
    "collapsed": true
   },
   "outputs": [],
   "source": [
    "# '''Copying and renaming files'''\n",
    "\n",
    "\n",
    "# def bidsify(origpath, destpath, verbose=True):\n",
    "    \n",
    "#     origin = os.listdir(origpath)\n",
    "    \n",
    "#     # create new directory structure\n",
    "#         # strips trailing dates from subject folder names\n",
    "#     for subdir in origin:\n",
    "#         splitdir = subdir.split('_')\n",
    "#         for scantype in ['anat', 'func']:\n",
    "#             os.makedirs(destpath+'/'+splitdir[0]+'/ses-'+splitdir[1]+'/'+scantype)\n",
    "            \n",
    "#     for subdir in origin:\n",
    "        "
   ]
  },
  {
   "cell_type": "code",
   "execution_count": null,
   "metadata": {
    "collapsed": true
   },
   "outputs": [],
   "source": [
    "'''Defines naming scheme for moved files'''\n",
    "\n",
    "def rename(file, root):\n",
    "    \n",
    "    # viarable to track unsuccessfully renamed files\n",
    "    problem_file = None\n",
    "    \n",
    "    old_path = os.path.join(root, file)\n",
    "    base, ext = os.path.splitext(file)\n",
    "    splitpath = root.split('/')\n",
    "\n",
    "    # get subject ID\n",
    "    sub = splitpath[-2].split('_')[0]\n",
    "\n",
    "    # get session number\n",
    "    ses_number = splitpath[-2].split('_')[1]\n",
    "    if ses_number <= nonlocal n_sessions:\n",
    "        session = 'ses-'+ses_number\n",
    "    \n",
    "    else:\n",
    "        print('unrecognized session number \\'' + ses_number + '\\' for subID ' + sub)\n",
    "        problem_file = file\n",
    "    \n",
    "    # get scan type (or log)\n",
    "    if splitpath[-1] == 'ANATOMY':\n",
    "        runtype = 'anat'\n",
    "        \n",
    "    elif splitpath[-1] == 'FUNCTIONAL':\n",
    "        runtype = 'func'\n",
    "        \n",
    "    elif splitpath[-1] == 'LOG':\n",
    "        runtype = 'LOG'\n",
    "       \n",
    "    else:\n",
    "        print('unrecognized scan or log folder ' + splitpath[-1] + ' for subID ' + sub)\n",
    "        problem_file = file\n",
    "        \n",
    "    # format scan name (or preserve name of log file)\n",
    "    if base in nonlocal scan_names:\n",
    "        new_name = nonlocal scan_names[base]\n",
    "        \n",
    "    elif ext =='log':\n",
    "        new_name = base\n",
    "        \n",
    "    else:\n",
    "        print('unrecognized scan name ' + base + ' for file ' + file)\n",
    "        problem_file = file\n",
    "        \n",
    "    try:\n",
    "        if runtype != 'LOG':\n",
    "            new_path = os.path.join(nonlocal destpath, sub, session, runtype, sub+'_'+new_name+ext)\n",
    "        else:\n",
    "            new_path = os.path.join(nonlocal destpath, sub, session, runtype, new_name+ext)\n",
    "\n",
    "    except NameError:\n",
    "        new_path = None\n",
    "        \n",
    "    return new_path, problem_file"
   ]
  },
  {
   "cell_type": "code",
   "execution_count": 18,
   "metadata": {
    "ExecuteTime": {
     "end_time": "2018-12-12T01:28:04.683936Z",
     "start_time": "2018-12-12T01:28:04.668054Z"
    },
    "collapsed": true
   },
   "outputs": [],
   "source": [
    "'''Copying and renaming files'''\n",
    "\n",
    "def bidsify(origpath, destpath, n_sessions=2, scan_types=None, scan_names=None, log_changes=True, verbose=True):\n",
    "    \n",
    "    # instantiate list of unsuccessfully handled file paths\n",
    "    \n",
    "    if scan_types is None:\n",
    "        scan_types = ['anat','func']\n",
    "        \n",
    "    if scan_names is None:\n",
    "        # use default dictionary of scan types\n",
    "        scan_names = {\n",
    "            'mprage' : 'T1_w',\n",
    "            'bold1' : 'task-rest_run-01_bold',\n",
    "            'bold2' : 'task-mcr_run-02_bold',\n",
    "            'bold3' : 'task-swm_run-03',\n",
    "            'bold4' : 'task-dd_run-04',\n",
    "            'bold5' : 'task-rest_run-05_bold'\n",
    "        }\n",
    "        \n",
    "    if log_changes:\n",
    "        scan_types.append('log')\n",
    "        \n",
    "    \n",
    "    for i, (root, dirs, files) in enumerate(os.walk(origpath)):\n",
    "        # create new directory structure\n",
    "        if i == 0:\n",
    "            [os.makedirs(destpath+'/'+direc.split('_')[0]+'/ses-'+str(ses+1)+'/'+scantype, exist_ok=True) for direc in dirs for scantype in scan_types for ses in range(n_sessions)]\n",
    "        \n",
    "        # wrangle files\n",
    "        else:\n",
    "            file_list = [f for f in files if not f.startswith('.')]\n",
    "            if file_list:\n",
    "                for file in file_list:\n",
    "                    new_path, problem_file = rename(file, root)\n",
    "                    \n",
    "                    old_filepath = os.path.join(root, file)\n",
    "                    \n",
    "                    new_path, problem_file = rename\n",
    "                    \n",
    "                    \n",
    "                    \n",
    "                    new_filepath = os.path.join(, )\n",
    "        \n",
    "        \n",
    "        \n",
    "        "
   ]
  },
  {
   "cell_type": "code",
   "execution_count": null,
   "metadata": {
    "collapsed": true
   },
   "outputs": [],
   "source": []
  },
  {
   "cell_type": "code",
   "execution_count": 21,
   "metadata": {
    "ExecuteTime": {
     "end_time": "2018-12-12T16:07:41.864423Z",
     "start_time": "2018-12-12T16:07:41.810212Z"
    },
    "scrolled": true
   },
   "outputs": [
    {
     "name": "stdout",
     "output_type": "stream",
     "text": [
      "2022_1_asd-anat.txt\n",
      "/Users/paxtonfitzpatrick/Desktop/testorig/2022_1_asd/ANATOMY/2022_1_asd-anat.txt\n",
      "/Users/paxtonfitzpatrick/Desktop/testorig/2022_1_asd/ANATOMY\n",
      "2022_1_asd-anat\n",
      ".txt\n",
      "2022_1_asd-log.txt\n",
      "/Users/paxtonfitzpatrick/Desktop/testorig/2022_1_asd/LOG/2022_1_asd-log.txt\n",
      "/Users/paxtonfitzpatrick/Desktop/testorig/2022_1_asd/LOG\n",
      "2022_1_asd-log\n",
      ".txt\n",
      "example-log.txt\n",
      "/Users/paxtonfitzpatrick/Desktop/testorig/2022_1_asd/LOG/example-log.txt\n",
      "/Users/paxtonfitzpatrick/Desktop/testorig/2022_1_asd/LOG\n",
      "example-log\n",
      ".txt\n",
      "2012_1_asd-func.txt\n",
      "/Users/paxtonfitzpatrick/Desktop/testorig/2022_1_asd/FUNCTIONAL/2012_1_asd-func.txt\n",
      "/Users/paxtonfitzpatrick/Desktop/testorig/2022_1_asd/FUNCTIONAL\n",
      "2012_1_asd-func\n",
      ".txt\n",
      "example-func.txt\n",
      "/Users/paxtonfitzpatrick/Desktop/testorig/2022_1_asd/FUNCTIONAL/example-func.txt\n",
      "/Users/paxtonfitzpatrick/Desktop/testorig/2022_1_asd/FUNCTIONAL\n",
      "example-func\n",
      ".txt\n",
      "2020_1_asd-anat.txt\n",
      "/Users/paxtonfitzpatrick/Desktop/testorig/2020_1_asd/ANATOMY/2020_1_asd-anat.txt\n",
      "/Users/paxtonfitzpatrick/Desktop/testorig/2020_1_asd/ANATOMY\n",
      "2020_1_asd-anat\n",
      ".txt\n",
      "2020_1_asd-log.txt\n",
      "/Users/paxtonfitzpatrick/Desktop/testorig/2020_1_asd/LOG/2020_1_asd-log.txt\n",
      "/Users/paxtonfitzpatrick/Desktop/testorig/2020_1_asd/LOG\n",
      "2020_1_asd-log\n",
      ".txt\n",
      "2020_1_asd-func.txt\n",
      "/Users/paxtonfitzpatrick/Desktop/testorig/2020_1_asd/FUNCTIONAL/2020_1_asd-func.txt\n",
      "/Users/paxtonfitzpatrick/Desktop/testorig/2020_1_asd/FUNCTIONAL\n",
      "2020_1_asd-func\n",
      ".txt\n",
      "2019_1_asd-anat.txt\n",
      "/Users/paxtonfitzpatrick/Desktop/testorig/2019_1_asd/ANATOMY/2019_1_asd-anat.txt\n",
      "/Users/paxtonfitzpatrick/Desktop/testorig/2019_1_asd/ANATOMY\n",
      "2019_1_asd-anat\n",
      ".txt\n",
      "2019_1_asd-log.txt\n",
      "/Users/paxtonfitzpatrick/Desktop/testorig/2019_1_asd/LOG/2019_1_asd-log.txt\n",
      "/Users/paxtonfitzpatrick/Desktop/testorig/2019_1_asd/LOG\n",
      "2019_1_asd-log\n",
      ".txt\n",
      "2019_1_asd-func.txt\n",
      "/Users/paxtonfitzpatrick/Desktop/testorig/2019_1_asd/FUNCTIONAL/2019_1_asd-func.txt\n",
      "/Users/paxtonfitzpatrick/Desktop/testorig/2019_1_asd/FUNCTIONAL\n",
      "2019_1_asd-func\n",
      ".txt\n",
      "2021_1_asd-anat.txt\n",
      "/Users/paxtonfitzpatrick/Desktop/testorig/2021_1_asd/ANATOMY/2021_1_asd-anat.txt\n",
      "/Users/paxtonfitzpatrick/Desktop/testorig/2021_1_asd/ANATOMY\n",
      "2021_1_asd-anat\n",
      ".txt\n",
      "2018_1_asd-log.txt\n",
      "/Users/paxtonfitzpatrick/Desktop/testorig/2021_1_asd/LOG/2018_1_asd-log.txt\n",
      "/Users/paxtonfitzpatrick/Desktop/testorig/2021_1_asd/LOG\n",
      "2018_1_asd-log\n",
      ".txt\n",
      "example-log.txt\n",
      "/Users/paxtonfitzpatrick/Desktop/testorig/2021_1_asd/LOG/example-log.txt\n",
      "/Users/paxtonfitzpatrick/Desktop/testorig/2021_1_asd/LOG\n",
      "example-log\n",
      ".txt\n",
      "2018_1_asd-func.txt\n",
      "/Users/paxtonfitzpatrick/Desktop/testorig/2021_1_asd/FUNCTIONAL/2018_1_asd-func.txt\n",
      "/Users/paxtonfitzpatrick/Desktop/testorig/2021_1_asd/FUNCTIONAL\n",
      "2018_1_asd-func\n",
      ".txt\n",
      "example-func.txt\n",
      "/Users/paxtonfitzpatrick/Desktop/testorig/2021_1_asd/FUNCTIONAL/example-func.txt\n",
      "/Users/paxtonfitzpatrick/Desktop/testorig/2021_1_asd/FUNCTIONAL\n",
      "example-func\n",
      ".txt\n",
      "2023_1_asd-log.txt\n",
      "/Users/paxtonfitzpatrick/Desktop/testorig/2023_1_asd/LOG/2023_1_asd-log.txt\n",
      "/Users/paxtonfitzpatrick/Desktop/testorig/2023_1_asd/LOG\n",
      "2023_1_asd-log\n",
      ".txt\n",
      "example-log.txt\n",
      "/Users/paxtonfitzpatrick/Desktop/testorig/2023_1_asd/LOG/example-log.txt\n",
      "/Users/paxtonfitzpatrick/Desktop/testorig/2023_1_asd/LOG\n",
      "example-log\n",
      ".txt\n",
      "2018_1_asd-anat.txt\n",
      "/Users/paxtonfitzpatrick/Desktop/testorig/2018_1_asd/ANATOMY/2018_1_asd-anat.txt\n",
      "/Users/paxtonfitzpatrick/Desktop/testorig/2018_1_asd/ANATOMY\n",
      "2018_1_asd-anat\n",
      ".txt\n",
      "2018_1_asd-log.txt\n",
      "/Users/paxtonfitzpatrick/Desktop/testorig/2018_1_asd/LOG/2018_1_asd-log.txt\n",
      "/Users/paxtonfitzpatrick/Desktop/testorig/2018_1_asd/LOG\n",
      "2018_1_asd-log\n",
      ".txt\n",
      "2018_1_asd-func.txt\n",
      "/Users/paxtonfitzpatrick/Desktop/testorig/2018_1_asd/FUNCTIONAL/2018_1_asd-func.txt\n",
      "/Users/paxtonfitzpatrick/Desktop/testorig/2018_1_asd/FUNCTIONAL\n",
      "2018_1_asd-func\n",
      ".txt\n",
      "2018_2_jkl-anat.txt\n",
      "/Users/paxtonfitzpatrick/Desktop/testorig/2018_2_jkl/ANATOMY/2018_2_jkl-anat.txt\n",
      "/Users/paxtonfitzpatrick/Desktop/testorig/2018_2_jkl/ANATOMY\n",
      "2018_2_jkl-anat\n",
      ".txt\n",
      "2018_2_jkl-log.txt\n",
      "/Users/paxtonfitzpatrick/Desktop/testorig/2018_2_jkl/LOG/2018_2_jkl-log.txt\n",
      "/Users/paxtonfitzpatrick/Desktop/testorig/2018_2_jkl/LOG\n",
      "2018_2_jkl-log\n",
      ".txt\n",
      "2018_2_jkl-func.txt\n",
      "/Users/paxtonfitzpatrick/Desktop/testorig/2018_2_jkl/FUNCTIONAL/2018_2_jkl-func.txt\n",
      "/Users/paxtonfitzpatrick/Desktop/testorig/2018_2_jkl/FUNCTIONAL\n",
      "2018_2_jkl-func\n",
      ".txt\n",
      "2021_2_jkl-anat.txt\n",
      "/Users/paxtonfitzpatrick/Desktop/testorig/2021_2_jkl/ANATOMY/2021_2_jkl-anat.txt\n",
      "/Users/paxtonfitzpatrick/Desktop/testorig/2021_2_jkl/ANATOMY\n",
      "2021_2_jkl-anat\n",
      ".txt\n",
      "2018_1_asd-log.txt\n",
      "/Users/paxtonfitzpatrick/Desktop/testorig/2021_2_jkl/LOG/2018_1_asd-log.txt\n",
      "/Users/paxtonfitzpatrick/Desktop/testorig/2021_2_jkl/LOG\n",
      "2018_1_asd-log\n",
      ".txt\n",
      "example-log.txt\n",
      "/Users/paxtonfitzpatrick/Desktop/testorig/2021_2_jkl/LOG/example-log.txt\n",
      "/Users/paxtonfitzpatrick/Desktop/testorig/2021_2_jkl/LOG\n",
      "example-log\n",
      ".txt\n",
      "2018_1_asd-func.txt\n",
      "/Users/paxtonfitzpatrick/Desktop/testorig/2021_2_jkl/FUNCTIONAL/2018_1_asd-func.txt\n",
      "/Users/paxtonfitzpatrick/Desktop/testorig/2021_2_jkl/FUNCTIONAL\n",
      "2018_1_asd-func\n",
      ".txt\n",
      "example-func.txt\n",
      "/Users/paxtonfitzpatrick/Desktop/testorig/2021_2_jkl/FUNCTIONAL/example-func.txt\n",
      "/Users/paxtonfitzpatrick/Desktop/testorig/2021_2_jkl/FUNCTIONAL\n",
      "example-func\n",
      ".txt\n",
      "2019_2_jkl-anat.txt\n",
      "/Users/paxtonfitzpatrick/Desktop/testorig/2019_2_jkl/ANATOMY/2019_2_jkl-anat.txt\n",
      "/Users/paxtonfitzpatrick/Desktop/testorig/2019_2_jkl/ANATOMY\n",
      "2019_2_jkl-anat\n",
      ".txt\n",
      "2019_2_jkl-log.txt\n",
      "/Users/paxtonfitzpatrick/Desktop/testorig/2019_2_jkl/LOG/2019_2_jkl-log.txt\n",
      "/Users/paxtonfitzpatrick/Desktop/testorig/2019_2_jkl/LOG\n",
      "2019_2_jkl-log\n",
      ".txt\n",
      "2019_2_jkl-func.txt\n",
      "/Users/paxtonfitzpatrick/Desktop/testorig/2019_2_jkl/FUNCTIONAL/2019_2_jkl-func.txt\n",
      "/Users/paxtonfitzpatrick/Desktop/testorig/2019_2_jkl/FUNCTIONAL\n",
      "2019_2_jkl-func\n",
      ".txt\n",
      "2020_2_jkl-anat.txt\n",
      "/Users/paxtonfitzpatrick/Desktop/testorig/2020_2_jkl/ANATOMY/2020_2_jkl-anat.txt\n",
      "/Users/paxtonfitzpatrick/Desktop/testorig/2020_2_jkl/ANATOMY\n",
      "2020_2_jkl-anat\n",
      ".txt\n",
      "2018_1_asd-log.txt\n",
      "/Users/paxtonfitzpatrick/Desktop/testorig/2020_2_jkl/LOG/2018_1_asd-log.txt\n",
      "/Users/paxtonfitzpatrick/Desktop/testorig/2020_2_jkl/LOG\n",
      "2018_1_asd-log\n",
      ".txt\n",
      "example-log.txt\n",
      "/Users/paxtonfitzpatrick/Desktop/testorig/2020_2_jkl/LOG/example-log.txt\n",
      "/Users/paxtonfitzpatrick/Desktop/testorig/2020_2_jkl/LOG\n",
      "example-log\n",
      ".txt\n",
      "2018_1_asd-func.txt\n",
      "/Users/paxtonfitzpatrick/Desktop/testorig/2020_2_jkl/FUNCTIONAL/2018_1_asd-func.txt\n",
      "/Users/paxtonfitzpatrick/Desktop/testorig/2020_2_jkl/FUNCTIONAL\n",
      "2018_1_asd-func\n",
      ".txt\n",
      "example-func.txt\n",
      "/Users/paxtonfitzpatrick/Desktop/testorig/2020_2_jkl/FUNCTIONAL/example-func.txt\n",
      "/Users/paxtonfitzpatrick/Desktop/testorig/2020_2_jkl/FUNCTIONAL\n",
      "example-func\n",
      ".txt\n"
     ]
    }
   ],
   "source": [
    "destpath='/Users/paxtonfitzpatrick/Desktop/testdest/'\n",
    "origpath = '/Users/paxtonfitzpatrick/Desktop/testorig/'\n",
    "for i, (root, dirs, files) in enumerate(os.walk(origpath)):\n",
    "\n",
    "    file_list = [f for f in files if not f.startswith('.')]\n",
    "    if file_list:\n",
    "        for file in file_list:\n",
    "            print(file)\n",
    "            \n",
    "            old_filepath = os.path.join(root, file)\n",
    "            print(old_filepath)\n",
    "            base, ext = os.path.splitext(file)\n",
    "            print(root)\n",
    "            print(base)\n",
    "            print(ext)\n",
    "# #             base = 'HELLO'\n",
    "# #             print(base)\n",
    "#             print('________')"
   ]
  },
  {
   "cell_type": "code",
   "execution_count": 43,
   "metadata": {
    "ExecuteTime": {
     "end_time": "2018-12-12T03:21:56.428428Z",
     "start_time": "2018-12-12T03:21:56.397870Z"
    },
    "scrolled": true
   },
   "outputs": [
    {
     "name": "stdout",
     "output_type": "stream",
     "text": [
      "0\n",
      "['2020_1_asd', '2019_1_asd', '2021_1_asd', '2018_1_asd', '2018_2_jkl', '2021_2_jkl', '2019_2_jkl', '2020_2_jkl'] ['.DS_Store']\n",
      "1\n",
      "['ANATOMICAL', 'LOG', 'FUNCTIONAL'] ['.DS_Store']\n",
      "2\n",
      "[] ['.DS_Store', '2020_1_asd-anat.txt']\n",
      "3\n",
      "[] ['.DS_Store', '2020_1_asd-log.txt']\n",
      "4\n",
      "[] ['.DS_Store', '2020_1_asd-func.txt']\n",
      "5\n",
      "['ANATOMICAL', 'LOG', 'FUNCTIONAL'] ['.DS_Store']\n",
      "6\n",
      "[] ['.DS_Store', '2019_1_asd-anat.txt']\n",
      "7\n",
      "[] ['.DS_Store', '2019_1_asd-log.txt']\n",
      "8\n",
      "[] ['2019_1_asd-func.txt', '.DS_Store']\n",
      "9\n",
      "['ANATOMICAL', 'LOG', 'FUNCTIONAL'] ['.DS_Store']\n",
      "10\n",
      "[] ['.DS_Store', '2021_1_asd-anat.txt']\n",
      "11\n",
      "[] ['2018_1_asd-log.txt', 'example-log.txt']\n",
      "12\n",
      "[] ['2018_1_asd-func.txt', 'example-func.txt']\n",
      "13\n",
      "['ANATOMICAL', 'LOG', 'FUNCTIONAL'] ['.DS_Store']\n",
      "14\n",
      "[] ['2018_1_asd-anat.txt', '.DS_Store']\n",
      "15\n",
      "[] ['2018_1_asd-log.txt']\n",
      "16\n",
      "[] ['2018_1_asd-func.txt']\n",
      "17\n",
      "['ANATOMICAL', 'LOG', 'FUNCTIONAL'] ['.DS_Store']\n",
      "18\n",
      "[] ['.DS_Store', '2018_2_jkl-anat.txt']\n",
      "19\n",
      "[] ['2018_2_jkl-log.txt']\n",
      "20\n",
      "[] ['2018_2_jkl-func.txt']\n",
      "21\n",
      "['ANATOMICAL', 'LOG', 'FUNCTIONAL'] ['.DS_Store']\n",
      "22\n",
      "[] ['.DS_Store', '2021_2_jkl-anat.txt']\n",
      "23\n",
      "[] ['2018_1_asd-log.txt', 'example-log.txt']\n",
      "24\n",
      "[] ['2018_1_asd-func.txt', 'example-func.txt']\n",
      "25\n",
      "['ANATOMICAL', 'LOG', 'FUNCTIONAL'] ['.DS_Store']\n",
      "26\n",
      "[] ['.DS_Store', '2019_2_jkl-anat.txt']\n",
      "27\n",
      "[] ['.DS_Store', '2019_2_jkl-log.txt']\n",
      "28\n",
      "[] ['.DS_Store', '2019_2_jkl-func.txt']\n",
      "29\n",
      "['ANATOMICAL', 'LOG', 'FUNCTIONAL'] ['.DS_Store']\n",
      "30\n",
      "[] ['2020_2_jkl-anat.txt', '.DS_Store']\n",
      "31\n",
      "[] ['2018_1_asd-log.txt', 'example-log.txt']\n",
      "32\n",
      "[] ['2018_1_asd-func.txt', 'example-func.txt']\n"
     ]
    }
   ],
   "source": [
    "for i, (root, dirs, files) in enumerate(os.walk('/Users/paxtonfitzpatrick/Desktop/testorig/')):\n",
    "    print(i)\n",
    "    print(dirs, files)"
   ]
  },
  {
   "cell_type": "code",
   "execution_count": null,
   "metadata": {
    "collapsed": true
   },
   "outputs": [],
   "source": []
  },
  {
   "cell_type": "code",
   "execution_count": null,
   "metadata": {
    "collapsed": true
   },
   "outputs": [],
   "source": []
  },
  {
   "cell_type": "code",
   "execution_count": 19,
   "metadata": {
    "ExecuteTime": {
     "end_time": "2018-12-12T01:28:09.091457Z",
     "start_time": "2018-12-12T01:28:09.081200Z"
    },
    "collapsed": true
   },
   "outputs": [],
   "source": [
    "'''TESTING'''\n",
    "\n",
    "\n",
    "bidsify('/Users/paxtonfitzpatrick/Desktop/testorig/', '/Users/paxtonfitzpatrick/Desktop/testdest/', log_changes=True)"
   ]
  },
  {
   "cell_type": "code",
   "execution_count": 66,
   "metadata": {
    "ExecuteTime": {
     "end_time": "2018-12-12T06:05:05.727369Z",
     "start_time": "2018-12-12T06:05:05.724080Z"
    },
    "collapsed": true
   },
   "outputs": [],
   "source": [
    "origpath = '/Users/paxtonfitzpatrick/Desktop/testorig/'\n",
    "a, b, = origpath.split('/')[-2], origpath.split('/')[-3]"
   ]
  },
  {
   "cell_type": "code",
   "execution_count": 68,
   "metadata": {
    "ExecuteTime": {
     "end_time": "2018-12-12T06:05:10.254082Z",
     "start_time": "2018-12-12T06:05:10.250036Z"
    }
   },
   "outputs": [
    {
     "data": {
      "text/plain": [
       "'Desktop'"
      ]
     },
     "execution_count": 68,
     "metadata": {},
     "output_type": "execute_result"
    }
   ],
   "source": [
    "somefile = '/Users/paxtonfitzpatrick/Desktop/testorig/2018_1_asd/ANATOMICAL/2018_1_asd-anat.txt'\n",
    "os.path.basename()"
   ]
  },
  {
   "cell_type": "code",
   "execution_count": 74,
   "metadata": {
    "ExecuteTime": {
     "end_time": "2018-12-12T07:52:50.910342Z",
     "start_time": "2018-12-12T07:52:50.905991Z"
    },
    "collapsed": true
   },
   "outputs": [],
   "source": [
    "scan_names = {\n",
    "            'mprage' : 'T1_w',\n",
    "            'bold1' : 'task-rest_run-01_bold',\n",
    "            'bold2' : 'task-mcr_run-02_bold',\n",
    "            'bold3' : 'task-swm_run-03',\n",
    "            'bold4' : 'task-dd_run-04',\n",
    "            'bold5' : 'task-rest_run-05_bold'\n",
    "        }"
   ]
  },
  {
   "cell_type": "code",
   "execution_count": 77,
   "metadata": {
    "ExecuteTime": {
     "end_time": "2018-12-12T07:53:24.894474Z",
     "start_time": "2018-12-12T07:53:24.890143Z"
    }
   },
   "outputs": [
    {
     "name": "stdout",
     "output_type": "stream",
     "text": [
      "task-mcr_run-02_bold\n"
     ]
    }
   ],
   "source": [
    "if 'bold2' in scan_names:\n",
    "    print(scan_names['bold2'])"
   ]
  },
  {
   "cell_type": "code",
   "execution_count": 1,
   "metadata": {
    "ExecuteTime": {
     "end_time": "2018-12-12T15:55:52.786894Z",
     "start_time": "2018-12-12T15:55:52.687786Z"
    }
   },
   "outputs": [
    {
     "ename": "NameError",
     "evalue": "name 'asdf' is not defined",
     "output_type": "error",
     "traceback": [
      "\u001b[0;31m---------------------------------------------------------------------------\u001b[0m",
      "\u001b[0;31mNameError\u001b[0m                                 Traceback (most recent call last)",
      "\u001b[0;32m<ipython-input-1-6e6c36d0859c>\u001b[0m in \u001b[0;36m<module>\u001b[0;34m()\u001b[0m\n\u001b[0;32m----> 1\u001b[0;31m \u001b[0mprint\u001b[0m\u001b[0;34m(\u001b[0m\u001b[0masdf\u001b[0m\u001b[0;34m)\u001b[0m\u001b[0;34m\u001b[0m\u001b[0m\n\u001b[0m",
      "\u001b[0;31mNameError\u001b[0m: name 'asdf' is not defined"
     ]
    }
   ],
   "source": [
    "print(asdf)"
   ]
  },
  {
   "cell_type": "code",
   "execution_count": 8,
   "metadata": {
    "ExecuteTime": {
     "end_time": "2018-12-12T15:58:22.156119Z",
     "start_time": "2018-12-12T15:58:22.151989Z"
    }
   },
   "outputs": [],
   "source": [
    "def tester():\n",
    "    hello = None\n",
    "    print('a')\n",
    "    return hello"
   ]
  },
  {
   "cell_type": "code",
   "execution_count": 11,
   "metadata": {
    "ExecuteTime": {
     "end_time": "2018-12-12T15:58:37.423201Z",
     "start_time": "2018-12-12T15:58:37.419038Z"
    }
   },
   "outputs": [
    {
     "name": "stdout",
     "output_type": "stream",
     "text": [
      "a\n"
     ]
    }
   ],
   "source": [
    "testlist.append(tester())"
   ]
  },
  {
   "cell_type": "code",
   "execution_count": 12,
   "metadata": {
    "ExecuteTime": {
     "end_time": "2018-12-12T15:58:37.930864Z",
     "start_time": "2018-12-12T15:58:37.925993Z"
    }
   },
   "outputs": [
    {
     "data": {
      "text/plain": [
       "[None, None]"
      ]
     },
     "execution_count": 12,
     "metadata": {},
     "output_type": "execute_result"
    }
   ],
   "source": [
    "testlist"
   ]
  },
  {
   "cell_type": "code",
   "execution_count": 13,
   "metadata": {
    "ExecuteTime": {
     "end_time": "2018-12-12T15:58:55.690744Z",
     "start_time": "2018-12-12T15:58:55.686157Z"
    }
   },
   "outputs": [
    {
     "data": {
      "text/plain": [
       "[]"
      ]
     },
     "execution_count": 13,
     "metadata": {},
     "output_type": "execute_result"
    }
   ],
   "source": [
    "[i for i in testlist if i is not None]"
   ]
  },
  {
   "cell_type": "code",
   "execution_count": 18,
   "metadata": {
    "ExecuteTime": {
     "end_time": "2018-12-12T16:07:17.475533Z",
     "start_time": "2018-12-12T16:07:17.472240Z"
    },
    "collapsed": true
   },
   "outputs": [],
   "source": [
    "base, ext = os.path.splitext('Users/paxtonfitzpatrick/Desktop/testorig/2022_1_asd/ANATOMY/2022_1_asd-anat.txt')"
   ]
  },
  {
   "cell_type": "code",
   "execution_count": 23,
   "metadata": {
    "ExecuteTime": {
     "end_time": "2018-12-12T16:13:36.865567Z",
     "start_time": "2018-12-12T16:13:36.860721Z"
    }
   },
   "outputs": [
    {
     "data": {
      "text/plain": [
       "'example-func.txt'"
      ]
     },
     "execution_count": 23,
     "metadata": {},
     "output_type": "execute_result"
    }
   ],
   "source": [
    "base+''+ext"
   ]
  },
  {
   "cell_type": "code",
   "execution_count": 20,
   "metadata": {
    "ExecuteTime": {
     "end_time": "2018-12-12T16:07:21.999053Z",
     "start_time": "2018-12-12T16:07:21.995258Z"
    }
   },
   "outputs": [
    {
     "data": {
      "text/plain": [
       "'.txt'"
      ]
     },
     "execution_count": 20,
     "metadata": {},
     "output_type": "execute_result"
    }
   ],
   "source": [
    "ext"
   ]
  },
  {
   "cell_type": "code",
   "execution_count": null,
   "metadata": {
    "collapsed": true
   },
   "outputs": [],
   "source": []
  }
 ],
 "metadata": {
  "kernelspec": {
   "display_name": "Python 3",
   "language": "python",
   "name": "python3"
  },
  "language_info": {
   "codemirror_mode": {
    "name": "ipython",
    "version": 3
   },
   "file_extension": ".py",
   "mimetype": "text/x-python",
   "name": "python",
   "nbconvert_exporter": "python",
   "pygments_lexer": "ipython3",
   "version": "3.6.2"
  }
 },
 "nbformat": 4,
 "nbformat_minor": 2
}
