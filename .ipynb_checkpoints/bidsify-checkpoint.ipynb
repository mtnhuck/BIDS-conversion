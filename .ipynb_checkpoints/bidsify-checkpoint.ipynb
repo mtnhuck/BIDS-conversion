{
 "cells": [
  {
   "cell_type": "code",
   "execution_count": 13,
   "metadata": {
    "ExecuteTime": {
     "end_time": "2018-12-12T17:42:12.514880Z",
     "start_time": "2018-12-12T17:42:12.510869Z"
    },
    "collapsed": true
   },
   "outputs": [],
   "source": [
    "# import modules\n",
    "import shutil\n",
    "import os\n",
    "import pandas as pd"
   ]
  },
  {
   "cell_type": "code",
   "execution_count": 14,
   "metadata": {
    "ExecuteTime": {
     "end_time": "2018-12-12T17:42:13.345101Z",
     "start_time": "2018-12-12T17:42:13.258832Z"
    }
   },
   "outputs": [],
   "source": [
    "'''Defines naming scheme for moved files'''\n",
    "\n",
    "def rename(file, root, n_sessions, scan_names, destpath):\n",
    "    \n",
    "    # use variables from enclosing scope\n",
    "#     nonlocal n_sessions\n",
    "#     nonlocal scan_names\n",
    "#     nonlocal destpath\n",
    "    \n",
    "    # viarable to track unsuccessfully renamed files\n",
    "    problem_file = None\n",
    "    \n",
    "    old_path = os.path.join(root, file)\n",
    "    base, ext = os.path.splitext(file)\n",
    "    splitpath = root.split('/')\n",
    "\n",
    "    # get subject ID\n",
    "    sub = splitpath[-2].split('_')[0]\n",
    "\n",
    "    # get session number\n",
    "    ses_number = splitpath[-2].split('_')[1]\n",
    "    if int(ses_number) <= n_sessions:\n",
    "        session = 'ses-'+ses_number\n",
    "    \n",
    "    else:\n",
    "        print('unrecognized session number \\'' + ses_number + '\\' for subID ' + sub)\n",
    "        problem_file = file\n",
    "    \n",
    "    # get scan type (or log)\n",
    "    if splitpath[-1] == 'ANATOMY':\n",
    "        runtype = 'anat'\n",
    "        \n",
    "    elif splitpath[-1] == 'FUNCTIONAL':\n",
    "        runtype = 'func'\n",
    "        \n",
    "    elif splitpath[-1] == 'LOG':\n",
    "        runtype = 'LOG'\n",
    "       \n",
    "    else:\n",
    "        print('unrecognized scan or log folder ' + splitpath[-1] + ' for subID ' + sub)\n",
    "        problem_file = file\n",
    "        \n",
    "    # format scan name (or preserve name of log file)\n",
    "    if base in scan_names:\n",
    "        new_name = scan_names[base]\n",
    "        \n",
    "    elif ext =='.log':\n",
    "        new_name = base\n",
    "        \n",
    "    else:\n",
    "        print('unrecognized scan name ' + base + ' for file ' + file)\n",
    "        problem_file = file\n",
    "        \n",
    "    try:\n",
    "        if runtype != 'LOG':\n",
    "            new_path = os.path.join(destpath, sub, session, runtype, sub+'_'+new_name+ext)\n",
    "        else:\n",
    "            new_path = os.path.join(destpath, sub, session, runtype, new_name+ext)\n",
    "\n",
    "    except NameError:\n",
    "        new_path = None\n",
    "        \n",
    "    return new_path, problem_file"
   ]
  },
  {
   "cell_type": "code",
   "execution_count": 15,
   "metadata": {
    "ExecuteTime": {
     "end_time": "2018-12-12T17:42:13.886439Z",
     "start_time": "2018-12-12T17:42:13.819011Z"
    },
    "collapsed": true
   },
   "outputs": [],
   "source": [
    "'''Copying and renaming files'''\n",
    "\n",
    "def bidsify(origpath, destpath, n_sessions=2, scan_types=None, scan_names=None, log_changes=True, verbose=True):\n",
    "    \n",
    "    # instantiate list of unsuccessfully handled file paths\n",
    "    problem_files = []\n",
    "    \n",
    "    if scan_types is None:\n",
    "        scan_types = ['anat','func']\n",
    "        \n",
    "    if scan_names is None:\n",
    "        # use default dictionary of scan types\n",
    "        scan_names = {\n",
    "            'mprage' : 'T1w',\n",
    "            'bold1' : 'task-rest_run-01_bold',\n",
    "            'bold2' : 'task-mcr_run-02_bold',\n",
    "            'bold3' : 'task-swm_run-03_bold',\n",
    "            'bold4' : 'task-dd_run-04_bold',\n",
    "            'bold5' : 'task-rest_run-05_bold'\n",
    "        }\n",
    "        \n",
    "    if log_changes:\n",
    "        scan_types.append('log')\n",
    "        \n",
    "    \n",
    "    for i, (root, dirs, files) in enumerate(os.walk(origpath)):\n",
    "        # create new directory structure\n",
    "        if i == 0:\n",
    "            [os.makedirs(destpath+'/'+direc.split('_')[0]+'/ses-'+str(ses+1)+'/'+scantype, exist_ok=True) for direc in dirs for scantype in scan_types for ses in range(n_sessions)]\n",
    "        \n",
    "        # move and rename files\n",
    "        else:\n",
    "            file_list = [f for f in files if not f.startswith('.')]\n",
    "            if file_list:\n",
    "                for file in file_list:\n",
    "                    old_filepath = os.path.join(root, file)\n",
    "                    new_filepath, problem_file = rename(file, root, n_sessions, scan_names, destpath)\n",
    "                    \n",
    "                    if new_filepath is not None:\n",
    "                        # move and rename\n",
    "                        shutil.copy(old_filepath, new_filepath)\n",
    "                        \n",
    "                    else:\n",
    "                        problem_files.append(problem_file)"
   ]
  },
  {
   "cell_type": "code",
   "execution_count": 16,
   "metadata": {
    "ExecuteTime": {
     "end_time": "2018-12-12T17:42:16.680172Z",
     "start_time": "2018-12-12T17:42:16.635094Z"
    },
    "scrolled": true
   },
   "outputs": [],
   "source": [
    "'''TESTING'''\n",
    "\n",
    "\n",
    "bidsify('/Users/paxtonfitzpatrick/Desktop/testorig/', '/Users/paxtonfitzpatrick/Desktop/testdest/', log_changes=True)"
   ]
  },
  {
   "cell_type": "code",
   "execution_count": null,
   "metadata": {
    "collapsed": true
   },
   "outputs": [],
   "source": []
  }
 ],
 "metadata": {
  "kernelspec": {
   "display_name": "Python 3",
   "language": "python",
   "name": "python3"
  },
  "language_info": {
   "codemirror_mode": {
    "name": "ipython",
    "version": 3
   },
   "file_extension": ".py",
   "mimetype": "text/x-python",
   "name": "python",
   "nbconvert_exporter": "python",
   "pygments_lexer": "ipython3",
   "version": "3.6.2"
  }
 },
 "nbformat": 4,
 "nbformat_minor": 2
}
